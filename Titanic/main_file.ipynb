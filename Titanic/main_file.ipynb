{
 "cells": [
  {
   "cell_type": "code",
   "execution_count": 2,
   "metadata": {},
   "outputs": [],
   "source": [
    "import pandas as pd\n",
    "import numpy as np\n",
    "import matplotlib.pyplot as plt \n",
    "import warnings\n",
    "from sklearn.preprocessing import LabelEncoder\n",
    "import operator \n",
    "from sklearn.model_selection import train_test_split\n",
    "from nameparser import HumanName\n",
    "warnings.filterwarnings('ignore')\n",
    "from sklearn.model_selection import cross_val_score\n",
    "from sklearn.linear_model import LogisticRegression\n",
    "from sklearn.feature_selection import SelectKBest, f_classif\n",
    "from sklearn.ensemble import RandomForestClassifier\n",
    "from sklearn.ensemble import ExtraTreesClassifier\n",
    "from sklearn.pipeline import Pipeline\n",
    "from sklearn.model_selection import KFold\n",
    "from sklearn.decomposition import PCA\n",
    "from sklearn.model_selection import GridSearchCV\n",
    "from sklearn.pipeline import FeatureUnion\n",
    "from sklearn.ensemble import GradientBoostingClassifier\n",
    "from scipy.stats.stats import pearsonr\n",
    "from sklearn.tree import DecisionTreeClassifier\n",
    "from sklearn.ensemble import AdaBoostClassifier\n",
    "from sklearn.metrics import accuracy_score\n",
    "from sklearn.ensemble import VotingClassifier\n",
    "from sklearn.naive_bayes import GaussianNB\n",
    "from sklearn.svm import SVC\n",
    "from sklearn.tree import DecisionTreeClassifier\n",
    "from sklearn import neighbors"
   ]
  },
  {
   "cell_type": "code",
   "execution_count": 3,
   "metadata": {},
   "outputs": [],
   "source": [
    "# Loading the data.\n",
    "train_data = pd.read_csv(\"train.csv\") \n",
    "test_data = pd.read_csv(\"test.csv\") "
   ]
  },
  {
   "cell_type": "code",
   "execution_count": 4,
   "metadata": {},
   "outputs": [],
   "source": [
    "#### Data PreProcessing and Exploration #####"
   ]
  },
  {
   "cell_type": "code",
   "execution_count": 5,
   "metadata": {},
   "outputs": [
    {
     "data": {
      "text/html": [
       "<div>\n",
       "<style scoped>\n",
       "    .dataframe tbody tr th:only-of-type {\n",
       "        vertical-align: middle;\n",
       "    }\n",
       "\n",
       "    .dataframe tbody tr th {\n",
       "        vertical-align: top;\n",
       "    }\n",
       "\n",
       "    .dataframe thead th {\n",
       "        text-align: right;\n",
       "    }\n",
       "</style>\n",
       "<table border=\"1\" class=\"dataframe\">\n",
       "  <thead>\n",
       "    <tr style=\"text-align: right;\">\n",
       "      <th></th>\n",
       "      <th>PassengerId</th>\n",
       "      <th>Survived</th>\n",
       "      <th>Pclass</th>\n",
       "      <th>Age</th>\n",
       "      <th>SibSp</th>\n",
       "      <th>Parch</th>\n",
       "      <th>Fare</th>\n",
       "    </tr>\n",
       "  </thead>\n",
       "  <tbody>\n",
       "    <tr>\n",
       "      <th>count</th>\n",
       "      <td>891.000000</td>\n",
       "      <td>891.000000</td>\n",
       "      <td>891.000000</td>\n",
       "      <td>714.000000</td>\n",
       "      <td>891.000000</td>\n",
       "      <td>891.000000</td>\n",
       "      <td>891.000000</td>\n",
       "    </tr>\n",
       "    <tr>\n",
       "      <th>mean</th>\n",
       "      <td>446.000000</td>\n",
       "      <td>0.383838</td>\n",
       "      <td>2.308642</td>\n",
       "      <td>29.699118</td>\n",
       "      <td>0.523008</td>\n",
       "      <td>0.381594</td>\n",
       "      <td>32.204208</td>\n",
       "    </tr>\n",
       "    <tr>\n",
       "      <th>std</th>\n",
       "      <td>257.353842</td>\n",
       "      <td>0.486592</td>\n",
       "      <td>0.836071</td>\n",
       "      <td>14.526497</td>\n",
       "      <td>1.102743</td>\n",
       "      <td>0.806057</td>\n",
       "      <td>49.693429</td>\n",
       "    </tr>\n",
       "    <tr>\n",
       "      <th>min</th>\n",
       "      <td>1.000000</td>\n",
       "      <td>0.000000</td>\n",
       "      <td>1.000000</td>\n",
       "      <td>0.420000</td>\n",
       "      <td>0.000000</td>\n",
       "      <td>0.000000</td>\n",
       "      <td>0.000000</td>\n",
       "    </tr>\n",
       "    <tr>\n",
       "      <th>25%</th>\n",
       "      <td>223.500000</td>\n",
       "      <td>0.000000</td>\n",
       "      <td>2.000000</td>\n",
       "      <td>20.125000</td>\n",
       "      <td>0.000000</td>\n",
       "      <td>0.000000</td>\n",
       "      <td>7.910400</td>\n",
       "    </tr>\n",
       "    <tr>\n",
       "      <th>50%</th>\n",
       "      <td>446.000000</td>\n",
       "      <td>0.000000</td>\n",
       "      <td>3.000000</td>\n",
       "      <td>28.000000</td>\n",
       "      <td>0.000000</td>\n",
       "      <td>0.000000</td>\n",
       "      <td>14.454200</td>\n",
       "    </tr>\n",
       "    <tr>\n",
       "      <th>75%</th>\n",
       "      <td>668.500000</td>\n",
       "      <td>1.000000</td>\n",
       "      <td>3.000000</td>\n",
       "      <td>38.000000</td>\n",
       "      <td>1.000000</td>\n",
       "      <td>0.000000</td>\n",
       "      <td>31.000000</td>\n",
       "    </tr>\n",
       "    <tr>\n",
       "      <th>max</th>\n",
       "      <td>891.000000</td>\n",
       "      <td>1.000000</td>\n",
       "      <td>3.000000</td>\n",
       "      <td>80.000000</td>\n",
       "      <td>8.000000</td>\n",
       "      <td>6.000000</td>\n",
       "      <td>512.329200</td>\n",
       "    </tr>\n",
       "  </tbody>\n",
       "</table>\n",
       "</div>"
      ],
      "text/plain": [
       "       PassengerId    Survived      Pclass         Age       SibSp  \\\n",
       "count   891.000000  891.000000  891.000000  714.000000  891.000000   \n",
       "mean    446.000000    0.383838    2.308642   29.699118    0.523008   \n",
       "std     257.353842    0.486592    0.836071   14.526497    1.102743   \n",
       "min       1.000000    0.000000    1.000000    0.420000    0.000000   \n",
       "25%     223.500000    0.000000    2.000000   20.125000    0.000000   \n",
       "50%     446.000000    0.000000    3.000000   28.000000    0.000000   \n",
       "75%     668.500000    1.000000    3.000000   38.000000    1.000000   \n",
       "max     891.000000    1.000000    3.000000   80.000000    8.000000   \n",
       "\n",
       "            Parch        Fare  \n",
       "count  891.000000  891.000000  \n",
       "mean     0.381594   32.204208  \n",
       "std      0.806057   49.693429  \n",
       "min      0.000000    0.000000  \n",
       "25%      0.000000    7.910400  \n",
       "50%      0.000000   14.454200  \n",
       "75%      0.000000   31.000000  \n",
       "max      6.000000  512.329200  "
      ]
     },
     "execution_count": 5,
     "metadata": {},
     "output_type": "execute_result"
    }
   ],
   "source": [
    "train_data.describe()"
   ]
  },
  {
   "cell_type": "code",
   "execution_count": 6,
   "metadata": {},
   "outputs": [
    {
     "data": {
      "text/html": [
       "<div>\n",
       "<style scoped>\n",
       "    .dataframe tbody tr th:only-of-type {\n",
       "        vertical-align: middle;\n",
       "    }\n",
       "\n",
       "    .dataframe tbody tr th {\n",
       "        vertical-align: top;\n",
       "    }\n",
       "\n",
       "    .dataframe thead th {\n",
       "        text-align: right;\n",
       "    }\n",
       "</style>\n",
       "<table border=\"1\" class=\"dataframe\">\n",
       "  <thead>\n",
       "    <tr style=\"text-align: right;\">\n",
       "      <th></th>\n",
       "      <th>PassengerId</th>\n",
       "      <th>Survived</th>\n",
       "      <th>Pclass</th>\n",
       "      <th>Name</th>\n",
       "      <th>Sex</th>\n",
       "      <th>Age</th>\n",
       "      <th>SibSp</th>\n",
       "      <th>Parch</th>\n",
       "      <th>Ticket</th>\n",
       "      <th>Fare</th>\n",
       "      <th>Cabin</th>\n",
       "      <th>Embarked</th>\n",
       "    </tr>\n",
       "  </thead>\n",
       "  <tbody>\n",
       "    <tr>\n",
       "      <th>0</th>\n",
       "      <td>1</td>\n",
       "      <td>0</td>\n",
       "      <td>3</td>\n",
       "      <td>Braund, Mr. Owen Harris</td>\n",
       "      <td>male</td>\n",
       "      <td>22.0</td>\n",
       "      <td>1</td>\n",
       "      <td>0</td>\n",
       "      <td>A/5 21171</td>\n",
       "      <td>7.2500</td>\n",
       "      <td>NaN</td>\n",
       "      <td>S</td>\n",
       "    </tr>\n",
       "    <tr>\n",
       "      <th>1</th>\n",
       "      <td>2</td>\n",
       "      <td>1</td>\n",
       "      <td>1</td>\n",
       "      <td>Cumings, Mrs. John Bradley (Florence Briggs Th...</td>\n",
       "      <td>female</td>\n",
       "      <td>38.0</td>\n",
       "      <td>1</td>\n",
       "      <td>0</td>\n",
       "      <td>PC 17599</td>\n",
       "      <td>71.2833</td>\n",
       "      <td>C85</td>\n",
       "      <td>C</td>\n",
       "    </tr>\n",
       "    <tr>\n",
       "      <th>2</th>\n",
       "      <td>3</td>\n",
       "      <td>1</td>\n",
       "      <td>3</td>\n",
       "      <td>Heikkinen, Miss. Laina</td>\n",
       "      <td>female</td>\n",
       "      <td>26.0</td>\n",
       "      <td>0</td>\n",
       "      <td>0</td>\n",
       "      <td>STON/O2. 3101282</td>\n",
       "      <td>7.9250</td>\n",
       "      <td>NaN</td>\n",
       "      <td>S</td>\n",
       "    </tr>\n",
       "    <tr>\n",
       "      <th>3</th>\n",
       "      <td>4</td>\n",
       "      <td>1</td>\n",
       "      <td>1</td>\n",
       "      <td>Futrelle, Mrs. Jacques Heath (Lily May Peel)</td>\n",
       "      <td>female</td>\n",
       "      <td>35.0</td>\n",
       "      <td>1</td>\n",
       "      <td>0</td>\n",
       "      <td>113803</td>\n",
       "      <td>53.1000</td>\n",
       "      <td>C123</td>\n",
       "      <td>S</td>\n",
       "    </tr>\n",
       "    <tr>\n",
       "      <th>4</th>\n",
       "      <td>5</td>\n",
       "      <td>0</td>\n",
       "      <td>3</td>\n",
       "      <td>Allen, Mr. William Henry</td>\n",
       "      <td>male</td>\n",
       "      <td>35.0</td>\n",
       "      <td>0</td>\n",
       "      <td>0</td>\n",
       "      <td>373450</td>\n",
       "      <td>8.0500</td>\n",
       "      <td>NaN</td>\n",
       "      <td>S</td>\n",
       "    </tr>\n",
       "  </tbody>\n",
       "</table>\n",
       "</div>"
      ],
      "text/plain": [
       "   PassengerId  Survived  Pclass  \\\n",
       "0            1         0       3   \n",
       "1            2         1       1   \n",
       "2            3         1       3   \n",
       "3            4         1       1   \n",
       "4            5         0       3   \n",
       "\n",
       "                                                Name     Sex   Age  SibSp  \\\n",
       "0                            Braund, Mr. Owen Harris    male  22.0      1   \n",
       "1  Cumings, Mrs. John Bradley (Florence Briggs Th...  female  38.0      1   \n",
       "2                             Heikkinen, Miss. Laina  female  26.0      0   \n",
       "3       Futrelle, Mrs. Jacques Heath (Lily May Peel)  female  35.0      1   \n",
       "4                           Allen, Mr. William Henry    male  35.0      0   \n",
       "\n",
       "   Parch            Ticket     Fare Cabin Embarked  \n",
       "0      0         A/5 21171   7.2500   NaN        S  \n",
       "1      0          PC 17599  71.2833   C85        C  \n",
       "2      0  STON/O2. 3101282   7.9250   NaN        S  \n",
       "3      0            113803  53.1000  C123        S  \n",
       "4      0            373450   8.0500   NaN        S  "
      ]
     },
     "execution_count": 6,
     "metadata": {},
     "output_type": "execute_result"
    }
   ],
   "source": [
    "#Reading the top 5 instances in the train_Data set\n",
    "train_data.head()"
   ]
  },
  {
   "cell_type": "code",
   "execution_count": 7,
   "metadata": {},
   "outputs": [
    {
     "data": {
      "text/plain": [
       "PassengerId      0\n",
       "Survived         0\n",
       "Pclass           0\n",
       "Name             0\n",
       "Sex              0\n",
       "Age            177\n",
       "SibSp            0\n",
       "Parch            0\n",
       "Ticket           0\n",
       "Fare             0\n",
       "Cabin          687\n",
       "Embarked         2\n",
       "dtype: int64"
      ]
     },
     "execution_count": 7,
     "metadata": {},
     "output_type": "execute_result"
    }
   ],
   "source": [
    "# count of Data Missing from the Train_dataset\n",
    "train_data.isnull().sum()"
   ]
  },
  {
   "cell_type": "code",
   "execution_count": 8,
   "metadata": {},
   "outputs": [],
   "source": [
    "# Age is missing about 20% of its data, hopefully we will be able to use other data to provide a fair guess as to what those ages should be.\n",
    "# Cabin is missing most of its data, but we might be able to learn something from the information that we have. \n",
    "# Embarked is missing just two values, that won't be a problem."
   ]
  },
  {
   "cell_type": "code",
   "execution_count": 9,
   "metadata": {},
   "outputs": [
    {
     "data": {
      "image/png": "[encoded data removed]",
      "text/plain": [
       "<Figure size 432x288 with 1 Axes>"
      ]
     },
     "metadata": {
      "needs_background": "light"
     },
     "output_type": "display_data"
    }
   ],
   "source": [
    "train_data.Survived.plot(kind='hist', bins = 2, edgecolor = 'red', color='yellow')\n",
    "plt.xticks((1, 0))\n",
    "plt.xlabel(('Died','Survived'))\n",
    "plt.title('Data via some graphs')\n",
    "plt.show()"
   ]
  },
  {
   "cell_type": "code",
   "execution_count": 10,
   "metadata": {},
   "outputs": [
    {
     "name": "stdout",
     "output_type": "stream",
     "text": [
      "Number of people died =  549\n",
      "Number of people survived =  342\n",
      "Percentage of Survival =  38.38383838383838  %\n"
     ]
    }
   ],
   "source": [
    "lst = train_data.Survived.value_counts()\n",
    "print(\"Number of people died = \",lst[0])\n",
    "print(\"Number of people survived = \",lst[1])\n",
    "print(\"Percentage of Survival = \",(lst[1]/(lst[0]+lst[1]))*100,\" %\")"
   ]
  },
  {
   "cell_type": "code",
   "execution_count": 11,
   "metadata": {},
   "outputs": [
    {
     "data": {
      "image/png": "[encoded data removed]",
      "text/plain": [
       "<Figure size 432x288 with 1 Axes>"
      ]
     },
     "metadata": {
      "needs_background": "light"
     },
     "output_type": "display_data"
    },
    {
     "name": "stdout",
     "output_type": "stream",
     "text": [
      "Survived    0    1\n",
      "Pclass            \n",
      "1          80  136\n",
      "2          97   87\n",
      "3         372  119\n"
     ]
    }
   ],
   "source": [
    "# -----------------------------------------------Based on PClass ----------------------------------------------------- \n",
    "n = 3\n",
    "index = np.arange(n)\n",
    "\n",
    "bar_width = 0.35\n",
    "opacity = 0.8\n",
    "\n",
    "PClassSurvived = train_data[train_data.Survived==1].Pclass.value_counts().sort_index()\n",
    "PClassDied = train_data[train_data.Survived==0].Pclass.value_counts().sort_index()\n",
    "plt.bar(index, PClassSurvived, bar_width, alpha=opacity, color='g', label='Survived')\n",
    "plt.bar(index+bar_width, PClassDied, bar_width, alpha=opacity, color='r', label='Died')\n",
    "plt.xlabel(\"Pclass\")\n",
    "plt.ylabel(\"Number of Passengers\")\n",
    "plt.legend(loc = 9)\n",
    "plt.xticks(index + 0.16, (1,2,3))\n",
    "plt.show()\n",
    "print(pd.crosstab(train_data.Pclass, train_data.Survived))"
   ]
  },
  {
   "cell_type": "code",
   "execution_count": 12,
   "metadata": {},
   "outputs": [],
   "source": [
    "# Looks like you don't want to be in third class. \n",
    "# I wonder what happens when we factor in gender as well."
   ]
  },
  {
   "cell_type": "code",
   "execution_count": 13,
   "metadata": {},
   "outputs": [
    {
     "data": {
      "image/png": "[encoded data removed]",
      "text/plain": [
       "<Figure size 1080x360 with 2 Axes>"
      ]
     },
     "metadata": {
      "needs_background": "light"
     },
     "output_type": "display_data"
    },
    {
     "name": "stdout",
     "output_type": "stream",
     "text": [
      "\n",
      "Male Values :\n",
      "\n",
      "Survived    0   1\n",
      "Pclass           \n",
      "1          77  45\n",
      "2          91  17\n",
      "3         300  47\n",
      "\n",
      "Female Values :\n",
      "\n",
      "Survived   0   1\n",
      "Pclass          \n",
      "1          3  91\n",
      "2          6  70\n",
      "3         72  72\n",
      "\n",
      "Upper and middle class women mostly survived, not so much for the lower class.None of the men did particularly well, especially those in the lower class.\n"
     ]
    }
   ],
   "source": [
    "# -------------------------------------------- Based on PClass And Gender ----------------------------------------------------- \n",
    "train_Male = train_data[train_data.Sex == 'male']\n",
    "train_Female = train_data[train_data.Sex == 'female']\n",
    "\n",
    "PClass_Survived_Male = train_Male[train_data.Survived==1].Pclass.value_counts().sort_index()\n",
    "PClass_Survived_Female = train_Female[train_data.Survived==1].Pclass.value_counts().sort_index()\n",
    "PClass_Died_Male = train_Male[train_data.Survived==0].Pclass.value_counts().sort_index()\n",
    "PClass_Died_Female = train_Female[train_data.Survived==0].Pclass.value_counts().sort_index()\n",
    "\n",
    "fig, axes = plt.subplots(nrows=1, ncols=2, figsize=(15, 5))\n",
    "PclassM1 = axes[0].bar(index, PClass_Survived_Male, bar_width,alpha=opacity,color='green',label='Male Survived')\n",
    "PclassM0 = axes[0].bar(index + bar_width, PClass_Died_Male, bar_width,alpha=opacity,color='red', label='Male Died')\n",
    "PclassF1 = axes[1].bar(index , PClass_Survived_Female, bar_width,alpha=opacity,color='orange', label='Female Survived')\n",
    "PclassM0 = axes[1].bar(index + bar_width, PClass_Died_Female, bar_width,alpha=opacity,color='red', label='Female Died')\n",
    "\n",
    "axes[0].legend(loc = 9)\n",
    "axes[0].set_xlabel('Pclass')\n",
    "axes[0].set_ylabel('Number of Males')\n",
    "axes[1].legend(loc = 9)\n",
    "axes[1].set_xlabel('Pclass')\n",
    "axes[1].set_ylabel('Number of Females')\n",
    "plt.setp(axes, xticks = index + 0.16, xticklabels=['1', '2', '3'])\n",
    "plt.show()\n",
    "print(\"\\nMale Values :\\n\",pd.crosstab(train_Male.Pclass, train_Male.Survived),sep=\"\\n\")\n",
    "print(\"\\nFemale Values :\\n\",pd.crosstab(train_Female.Pclass, train_Female.Survived),sep=\"\\n\")\n",
    "print(\"\\nUpper and middle class women mostly survived, not so much for the lower class.None of the men did particularly well, especially those in the lower class.\")"
   ]
  },
  {
   "cell_type": "code",
   "execution_count": 14,
   "metadata": {},
   "outputs": [],
   "source": [
    "#To get a better general sense, let's compare the survival of men and women."
   ]
  },
  {
   "cell_type": "code",
   "execution_count": 15,
   "metadata": {},
   "outputs": [
    {
     "data": {
      "image/png": "[encoded data removed]",
      "text/plain": [
       "<Figure size 432x288 with 1 Axes>"
      ]
     },
     "metadata": {
      "needs_background": "light"
     },
     "output_type": "display_data"
    },
    {
     "name": "stdout",
     "output_type": "stream",
     "text": [
      "Total Number of People in each Sex : \n",
      "Survived    0    1\n",
      "Sex               \n",
      "female     81  233\n",
      "male      468  109\n",
      "\n",
      "As expected, women typically survived and men did not.\n"
     ]
    }
   ],
   "source": [
    "n1 = 2\n",
    "index1=np.arange(n1)\n",
    "\n",
    "SexSurvived = train_data[train_data.Survived==1].Sex.value_counts().sort_index()\n",
    "SexDied = train_data[train_data.Survived==0].Sex.value_counts().sort_index()\n",
    "\n",
    "Sex1 = plt.bar(index1, SexSurvived, bar_width,alpha=opacity,color='green',label='Survived')\n",
    "Sex0 = plt.bar(index1 + bar_width, SexDied, bar_width,alpha=opacity,color='red',label='Died')\n",
    "plt.xticks(index + 0.16, ('Female', 'Male'))\n",
    "plt.xlabel(\"Sex\")\n",
    "    \n",
    "plt.legend(loc = 2)\n",
    "plt.show()\n",
    "print(\"Total Number of People in each Sex : \")\n",
    "print(pd.crosstab(train_data.Sex, train_data.Survived))\n",
    "print(\"\\nAs expected, women typically survived and men did not.\")"
   ]
  },
  {
   "cell_type": "code",
   "execution_count": 16,
   "metadata": {},
   "outputs": [
    {
     "data": {
      "image/png": "[encoded data removed]",
      "text/plain": [
       "<Figure size 1080x432 with 1 Axes>"
      ]
     },
     "metadata": {
      "needs_background": "light"
     },
     "output_type": "display_data"
    },
    {
     "name": "stdout",
     "output_type": "stream",
     "text": [
      "It seems that death is more common.\n"
     ]
    }
   ],
   "source": [
    "# Let's move on to Ages, and see how things worked out there.\n",
    "fig = plt.figure(figsize=(15, 6))\n",
    "AgeSurvived = train_data[train_data.Survived == 1].Age.value_counts().sort_index()\n",
    "AgeDied =  train_data[train_data.Survived == 0].Age.value_counts().sort_index()\n",
    "plt.plot(AgeSurvived,label='Survived',c='b',alpha=0.7)\n",
    "plt.plot(AgeDied,label='Died',c='red',alpha=0.5)\n",
    "plt.legend(loc=1)\n",
    "plt.show()\n",
    "print(\"It seems that death is more common.\")"
   ]
  },
  {
   "cell_type": "code",
   "execution_count": 17,
   "metadata": {},
   "outputs": [
    {
     "name": "stdout",
     "output_type": "stream",
     "text": [
      "Now let take care of those  177  Age Null entires\n"
     ]
    }
   ],
   "source": [
    "print(\"Now let take care of those \",train_data.Age.isnull().sum(),\" Age Null entires\")"
   ]
  },
  {
   "cell_type": "code",
   "execution_count": 18,
   "metadata": {},
   "outputs": [
    {
     "name": "stdout",
     "output_type": "stream",
     "text": [
      "One idea would be to take the median age: 28.0 or mean: 29.69911764705882 but I think we can get a clue from people's titles (ex Mr., Mrs.)\n"
     ]
    }
   ],
   "source": [
    "print(\"One idea would be to take the median age:\", train_data.Age.median(), \"or mean:\", train_data.Age.mean(), \"but I think we can get a clue from people's titles (ex Mr., Mrs.)\")"
   ]
  },
  {
   "cell_type": "code",
   "execution_count": 19,
   "metadata": {},
   "outputs": [
    {
     "name": "stdout",
     "output_type": "stream",
     "text": [
      "{'', 'Col.', 'Sir.', 'Mme.', 'Mrs.', 'Rev.', 'Capt.', 'Dr.', 'the Countess. of', 'Lady.', 'Mr.', 'Miss.', 'Mlle.', 'Ms.', 'Master.'}\n"
     ]
    }
   ],
   "source": [
    "titles = []\n",
    "for name in train_data.Name:\n",
    "    titles.append(HumanName(name).title)\n",
    "print(set(titles))"
   ]
  },
  {
   "cell_type": "code",
   "execution_count": 20,
   "metadata": {},
   "outputs": [
    {
     "name": "stdout",
     "output_type": "stream",
     "text": [
      "30     male\n",
      "449    male\n",
      "536    male\n",
      "822    male\n",
      "Name: Sex, dtype: object\n",
      "30     0\n",
      "449    1\n",
      "536    0\n",
      "822    0\n",
      "Name: Survived, dtype: int64\n"
     ]
    }
   ],
   "source": [
    "train_data.Title = train_data.Name.map(lambda x: HumanName(x).title)\n",
    "\n",
    "print(train_data[train_data.Title == ''].Sex)\n",
    "print(train_data[train_data.Title == ''].Survived)"
   ]
  },
  {
   "cell_type": "code",
   "execution_count": 21,
   "metadata": {},
   "outputs": [
    {
     "name": "stdout",
     "output_type": "stream",
     "text": [
      "{'Mr.': 30.0, 'Mrs.': 35.0, 'Miss.': 21.0, 'Master.': 3.5, '': 42.5, 'Rev.': 46.5, 'Dr.': 46.5, 'Mme.': 24.0, 'Ms.': 28.0, 'Lady.': 48.0, 'Sir.': 49.0, 'Mlle.': 24.0, 'Col.': 58.0, 'Capt.': 70.0, 'the Countess. of': 33.0}\n"
     ]
    }
   ],
   "source": [
    "titleAges = {}\n",
    "for title in train_data.Title:\n",
    "    if title not in titleAges:\n",
    "        titleAges[title] = train_data[train_data.Title == title].Age.median()\n",
    "print(titleAges)"
   ]
  },
  {
   "cell_type": "code",
   "execution_count": 22,
   "metadata": {},
   "outputs": [],
   "source": [
    "#Now we can add the median age of the respective title to the passengers who do not have an age.\n",
    "\n",
    "for title in train_data.Title:\n",
    "    train_data.Age = train_data.Age.fillna(titleAges[title])"
   ]
  },
  {
   "cell_type": "code",
   "execution_count": 23,
   "metadata": {},
   "outputs": [
    {
     "name": "stdout",
     "output_type": "stream",
     "text": [
      "Number of rows with missing age in Train Dataframe =  0\n"
     ]
    }
   ],
   "source": [
    "#After adding the missing ages \n",
    "print(\"Number of rows with missing age in Train Dataframe = \",len(train_data[train_data.Age == '']))"
   ]
  },
  {
   "cell_type": "code",
   "execution_count": 24,
   "metadata": {},
   "outputs": [
    {
     "name": "stdout",
     "output_type": "stream",
     "text": [
      "Number of rows with missing age in Test Dataframe  =  0\n"
     ]
    }
   ],
   "source": [
    "#same for the test dataframe, to keep things equal.\n",
    "test_data.Title = test_data.Name.map(lambda x: HumanName(x).title)\n",
    "testTitleAges = {}\n",
    "for title in test_data.Title:\n",
    "    if title not in testTitleAges:\n",
    "        testTitleAges[title] = test_data[test_data.Title == title].Age.median()\n",
    "for title in test_data.Title:\n",
    "    test_data.Age = test_data.Age.fillna(testTitleAges[title])\n",
    "print(\"Number of rows with missing age in Test Dataframe  = \",len(train_data[train_data.Age == '']))"
   ]
  },
  {
   "cell_type": "code",
   "execution_count": 25,
   "metadata": {},
   "outputs": [],
   "source": [
    "# let's move on to SibSp (siblings and spouses)"
   ]
  },
  {
   "cell_type": "code",
   "execution_count": 26,
   "metadata": {},
   "outputs": [
    {
     "data": {
      "image/png": "[encoded data removed]",
      "text/plain": [
       "<Figure size 432x288 with 1 Axes>"
      ]
     },
     "metadata": {
      "needs_background": "light"
     },
     "output_type": "display_data"
    },
    {
     "name": "stdout",
     "output_type": "stream",
     "text": [
      "Number of people in each SibSp group:\n",
      "\n",
      "Survived    0    1\n",
      "SibSp             \n",
      "0         398  210\n",
      "1          97  112\n",
      "2          15   13\n",
      "3          12    4\n",
      "4          15    3\n",
      "5           5    0\n",
      "8           7    0\n",
      "\n",
      "Things were decent for SibSp as 1 , otherwise not too good\n"
     ]
    }
   ],
   "source": [
    "n_groups1 = 5\n",
    "index1 = np.arange(n_groups1)\n",
    "n_groups2 = 7\n",
    "index2 = np.arange(n_groups2)\n",
    "\n",
    "SSSurvived = train_data[train_data.Survived==1].SibSp.value_counts().sort_index()\n",
    "SSDied = train_data[train_data.Survived==0].SibSp.value_counts().sort_index()\n",
    "\n",
    "SS1 = plt.bar(index1, SSSurvived, bar_width,\n",
    "                 alpha=opacity,\n",
    "                 color='g',\n",
    "                 label='Survived')\n",
    "plt.xticks(index + 0.1, (0,1,2,3,4,5,8))\n",
    "\n",
    "SS0 = plt.bar(index2 + bar_width, SSDied, bar_width,\n",
    "                 alpha=opacity,\n",
    "                 color='r',\n",
    "                 label='Died')\n",
    "\n",
    "plt.xlabel(\"SibSp\")\n",
    "plt.ylabel(\"Number of Passengers\")\n",
    "plt.legend()\n",
    "plt.show()\n",
    "print(\"Number of people in each SibSp group:\\n\")\n",
    "print(pd.crosstab(train_data.SibSp, train_data.Survived))\n",
    "print(\"\\nThings were decent for SibSp as 1 , otherwise not too good\")"
   ]
  },
  {
   "cell_type": "code",
   "execution_count": 27,
   "metadata": {},
   "outputs": [
    {
     "data": {
      "image/png": "[encoded data removed]",
      "text/plain": [
       "<Figure size 432x288 with 1 Axes>"
      ]
     },
     "metadata": {
      "needs_background": "light"
     },
     "output_type": "display_data"
    },
    {
     "name": "stdout",
     "output_type": "stream",
     "text": [
      "Number of people in each Parch group:\n",
      "Survived    0    1\n",
      "Parch             \n",
      "0         445  233\n",
      "1          53   65\n",
      "2          40   40\n",
      "3           2    3\n",
      "4           4    0\n",
      "5           4    1\n",
      "6           1    0\n",
      "\n",
      "Hmmmm, Results looks very similar to the SibSp plot/values.\n"
     ]
    }
   ],
   "source": [
    "#to Parch (parents and children).\n",
    "n_groups1 = 5\n",
    "index1 = np.arange(n_groups1)\n",
    "n_groups2 = 7\n",
    "index2 = np.arange(n_groups2)\n",
    "\n",
    "PCSurvived = train_data[train_data.Survived==1].Parch.value_counts().sort_index()\n",
    "PCDied = train_data[train_data.Survived==0].Parch.value_counts().sort_index()\n",
    "\n",
    "PC1 = plt.bar(index1, PCSurvived, bar_width,\n",
    "                 alpha=opacity,\n",
    "                 color='g',\n",
    "                 label='Survived')\n",
    "\n",
    "PC0 = plt.bar(index2 + bar_width, PCDied, bar_width,\n",
    "                 alpha=opacity,\n",
    "                 color='r',\n",
    "                 label='Died')\n",
    "\n",
    "plt.xlabel(\"Parch\")\n",
    "plt.legend()\n",
    "plt.xticks(index + 0.16, (0,1,2,3,4,5,6))\n",
    "plt.ylabel(\"Number of Passengers\")\n",
    "plt.show()\n",
    "print(\"Number of people in each Parch group:\")\n",
    "print(pd.crosstab(train_data.Parch, train_data.Survived))\n",
    "print(\"\\nHmmmm, Results looks very similar to the SibSp plot/values.\")"
   ]
  },
  {
   "cell_type": "code",
   "execution_count": 28,
   "metadata": {},
   "outputs": [],
   "source": [
    "train_data['FamilyMembers'] = (train_data.SibSp + train_data.Parch)\n",
    "test_data['FamilyMembers'] = (test_data.SibSp + test_data.Parch)"
   ]
  },
  {
   "cell_type": "code",
   "execution_count": 29,
   "metadata": {},
   "outputs": [
    {
     "data": {
      "image/png": "[encoded data removed]",
      "text/plain": [
       "<Figure size 432x288 with 1 Axes>"
      ]
     },
     "metadata": {
      "needs_background": "light"
     },
     "output_type": "display_data"
    },
    {
     "name": "stdout",
     "output_type": "stream",
     "text": [
      "Number of people in each Family Member size:\n",
      "Survived         0    1\n",
      "FamilyMembers          \n",
      "0              374  163\n",
      "1               72   89\n",
      "2               43   59\n",
      "3                8   21\n",
      "4               12    3\n",
      "5               19    3\n",
      "6                8    4\n",
      "7                6    0\n",
      "10               7    0\n",
      "\n",
      "Things don't look too good for solo travellers or larger families, but those with 1-3 family members do rather well.\n"
     ]
    }
   ],
   "source": [
    "#On the Basis of FamilyMembers \n",
    "n_groups1 = 7\n",
    "index1 = np.arange(n_groups1)\n",
    "n_groups2 = 9\n",
    "index2 = np.arange(n_groups2)\n",
    "\n",
    "FamilySurvived = train_data[train_data.Survived==1].FamilyMembers.value_counts().sort_index()\n",
    "FamilyDied = train_data[train_data.Survived==0].FamilyMembers.value_counts().sort_index()\n",
    "\n",
    "F1 = plt.bar(index1, FamilySurvived, bar_width,\n",
    "                 alpha=opacity,\n",
    "                 color='g',\n",
    "                 label='Survived')\n",
    "\n",
    "F0 = plt.bar(index2 + bar_width, FamilyDied, bar_width,\n",
    "                 alpha=opacity,\n",
    "                 color='r',\n",
    "                 label='Died')\n",
    "\n",
    "plt.xlabel(\"Number of Family Members\")\n",
    "plt.ylabel(\"Number of Passengers\")\n",
    "plt.legend()\n",
    "plt.xticks(index + 0.16, (0,1,2,3,4,5,6,7,10))\n",
    "plt.show()\n",
    "print(\"Number of people in each Family Member size:\")\n",
    "print(pd.crosstab(train_data.FamilyMembers, train_data.Survived))\n",
    "print(\"\\nThings don't look too good for solo travellers or larger families, but those with 1-3 family members do rather well.\")"
   ]
  },
  {
   "cell_type": "code",
   "execution_count": 30,
   "metadata": {},
   "outputs": [
    {
     "name": "stdout",
     "output_type": "stream",
     "text": [
      "CA. 2343             7\n",
      "347082               7\n",
      "1601                 7\n",
      "3101295              6\n",
      "CA 2144              6\n",
      "347088               6\n",
      "382652               5\n",
      "S.O.C. 14879         5\n",
      "113781               4\n",
      "W./C. 6608           4\n",
      "PC 17757             4\n",
      "349909               4\n",
      "2666                 4\n",
      "347077               4\n",
      "4133                 4\n",
      "113760               4\n",
      "LINE                 4\n",
      "19950                4\n",
      "17421                4\n",
      "29106                3\n",
      "PC 17572             3\n",
      "230080               3\n",
      "PC 17582             3\n",
      "35273                3\n",
      "110152               3\n",
      "239853               3\n",
      "SC/Paris 2123        3\n",
      "347742               3\n",
      "371110               3\n",
      "C.A. 31921           3\n",
      "                    ..\n",
      "11774                1\n",
      "345780               1\n",
      "SC/AH 29037          1\n",
      "367229               1\n",
      "13049                1\n",
      "371362               1\n",
      "2649                 1\n",
      "347069               1\n",
      "239855               1\n",
      "364506               1\n",
      "368703               1\n",
      "PC 17473             1\n",
      "2663                 1\n",
      "312993               1\n",
      "347071               1\n",
      "2671                 1\n",
      "345364               1\n",
      "362316               1\n",
      "113792               1\n",
      "28425                1\n",
      "SO/C 14885           1\n",
      "113509               1\n",
      "PP 4348              1\n",
      "231945               1\n",
      "248698               1\n",
      "349213               1\n",
      "SOTON/O2 3101287     1\n",
      "7553                 1\n",
      "STON/O 2. 3101269    1\n",
      "695                  1\n",
      "Name: Ticket, Length: 681, dtype: int64\n",
      "\n",
      "It's interesting to see that some people have the same ticket number, perhaps they are a part of the same family?\n"
     ]
    }
   ],
   "source": [
    "print(train_data.Ticket.value_counts())\n",
    "print(\"\\nIt's interesting to see that some people have the same ticket number, perhaps they are a part of the same family?\")"
   ]
  },
  {
   "cell_type": "code",
   "execution_count": 31,
   "metadata": {},
   "outputs": [
    {
     "name": "stdout",
     "output_type": "stream",
     "text": [
      "159           Sage, Master. Thomas Henry\n",
      "180         Sage, Miss. Constance Gladys\n",
      "201                  Sage, Mr. Frederick\n",
      "324             Sage, Mr. George John Jr\n",
      "792              Sage, Miss. Stella Anna\n",
      "846             Sage, Mr. Douglas Bullen\n",
      "863    Sage, Miss. Dorothy Edith \"Dolly\"\n",
      "Name: Name, dtype: object 159    0\n",
      "180    0\n",
      "201    0\n",
      "324    0\n",
      "792    0\n",
      "846    0\n",
      "863    0\n",
      "Name: Survived, dtype: int64\n"
     ]
    }
   ],
   "source": [
    "print(train_data[train_data.Ticket == 'CA. 2343'].Name, train_data[train_data.Ticket == 'CA. 2343'].Survived)"
   ]
  },
  {
   "cell_type": "code",
   "execution_count": 32,
   "metadata": {},
   "outputs": [
    {
     "name": "stdout",
     "output_type": "stream",
     "text": [
      "count    891.000000\n",
      "mean      32.204208\n",
      "std       49.693429\n",
      "min        0.000000\n",
      "25%        7.910400\n",
      "50%       14.454200\n",
      "75%       31.000000\n",
      "max      512.329200\n",
      "Name: Fare, dtype: float64 \n",
      "\n",
      "512.3292     3\n",
      "263.0000     4\n",
      "262.3750     2\n",
      "247.5208     2\n",
      "227.5250     4\n",
      "221.7792     1\n",
      "211.5000     1\n",
      "211.3375     3\n",
      "164.8667     2\n",
      "153.4625     3\n",
      "151.5500     4\n",
      "146.5208     2\n",
      "135.6333     3\n",
      "134.5000     2\n",
      "133.6500     2\n",
      "120.0000     4\n",
      "113.2750     3\n",
      "110.8833     4\n",
      "108.9000     2\n",
      "106.4250     2\n",
      "93.5000      2\n",
      "91.0792      2\n",
      "90.0000      4\n",
      "89.1042      2\n",
      "86.5000      3\n",
      "83.4750      2\n",
      "83.1583      3\n",
      "82.1708      2\n",
      "81.8583      1\n",
      "80.0000      2\n",
      "            ..\n",
      "7.7417       1\n",
      "7.7375       2\n",
      "7.7333       4\n",
      "7.7292       1\n",
      "7.7250       1\n",
      "7.6500       4\n",
      "7.6292       1\n",
      "7.5500       4\n",
      "7.5208       1\n",
      "7.4958       3\n",
      "7.3125       1\n",
      "7.2500      13\n",
      "7.2292      15\n",
      "7.2250      12\n",
      "7.1417       1\n",
      "7.1250       4\n",
      "7.0542       2\n",
      "7.0500       7\n",
      "7.0458       1\n",
      "6.9750       2\n",
      "6.9500       1\n",
      "6.8583       1\n",
      "6.7500       2\n",
      "6.4958       2\n",
      "6.4500       1\n",
      "6.4375       1\n",
      "6.2375       1\n",
      "5.0000       1\n",
      "4.0125       1\n",
      "0.0000      15\n",
      "Name: Fare, Length: 248, dtype: int64\n",
      "\n",
      "Some of those fare values are pretty high, mainly 512, which is nearly double the next highest value. There are 15 people who didn't pay anything. Let's look into those two things\n"
     ]
    }
   ],
   "source": [
    "print(train_data.Fare.describe(),\"\\n\")\n",
    "print(train_data.Fare.value_counts().sort_index(ascending = False))\n",
    "print(\"\\nSome of those fare values are pretty high, mainly 512, which is nearly double the next highest value. There are 15 people who didn't pay anything. Let's look into those two things\")"
   ]
  },
  {
   "cell_type": "code",
   "execution_count": 33,
   "metadata": {},
   "outputs": [
    {
     "name": "stdout",
     "output_type": "stream",
     "text": [
      "Names of the people with Fare = 512.329200 are :\n",
      "\n",
      "258                      Ward, Miss. Anna\n",
      "679    Cardeza, Mr. Thomas Drake Martinez\n",
      "737                Lesurer, Mr. Gustave J\n",
      "Name: Name, dtype: object\n",
      "Names of the people with Fare = 0.00 are :\n",
      "\n",
      "179                 Leonard, Mr. Lionel\n",
      "263               Harrison, Mr. William\n",
      "271        Tornquist, Mr. William Henry\n",
      "277         Parkes, Mr. Francis \"Frank\"\n",
      "302     Johnson, Mr. William Cahoone Jr\n",
      "413      Cunningham, Mr. Alfred Fleming\n",
      "466               Campbell, Mr. William\n",
      "481    Frost, Mr. Anthony Wood \"Archie\"\n",
      "597                 Johnson, Mr. Alfred\n",
      "633       Parr, Mr. William Henry Marsh\n",
      "674          Watson, Mr. Ennis Hastings\n",
      "732                Knight, Mr. Robert J\n",
      "806              Andrews, Mr. Thomas Jr\n",
      "815                    Fry, Mr. Richard\n",
      "822     Reuchlin, Jonkheer. John George\n",
      "Name: Name, dtype: object\n"
     ]
    }
   ],
   "source": [
    "print(\"Names of the people with Fare = 512.329200 are :\\n\\n\",train_data[train_data.Fare==512.329200].Name,sep=\"\")\n",
    "print(\"Names of the people with Fare = 0.00 are :\\n\\n\",train_data[train_data.Fare==0].Name,sep=\"\")"
   ]
  },
  {
   "cell_type": "code",
   "execution_count": 34,
   "metadata": {},
   "outputs": [
    {
     "name": "stdout",
     "output_type": "stream",
     "text": [
      "Ward, Miss. Anna  ------  Ward, Miss. Anna\n",
      "Cardeza, Mr. Thomas Drake Martinez  ------  Cardeza, Mr. Thomas Drake Martinez\n",
      "Lesurer, Mr. Gustave J  ------  Lesurer, Mr. Gustave J\n",
      "Leonard, Mr. Lionel  ------  Leonard, Mr. Lionel\n",
      "Harrison, Mr. William  ------  Harrison, Mr. William\n",
      "Tornquist, Mr. William Henry  ------  Tornquist, Mr. William Henry\n",
      "Parkes, Mr. Francis \"Frank\"  ------  Parkes, Mr. Francis \"Frank\"\n",
      "Johnson, Mr. William Cahoone Jr  ------  Johnson, Mrs. Oscar W (Elisabeth Vilhelmina Berg)\n",
      "Johnson, Mr. William Cahoone Jr  ------  Johnson, Miss. Eleanor Ileen\n",
      "Johnson, Mr. William Cahoone Jr  ------  Johnson, Mr. William Cahoone Jr\n",
      "Johnson, Mr. William Cahoone Jr  ------  Johnson, Mr. Alfred\n",
      "Johnson, Mr. William Cahoone Jr  ------  Johnson, Mr. Malkolm Joackim\n",
      "Johnson, Mr. William Cahoone Jr  ------  Johnson, Master. Harold Theodor\n",
      "Cunningham, Mr. Alfred Fleming  ------  Cunningham, Mr. Alfred Fleming\n",
      "Campbell, Mr. William  ------  Campbell, Mr. William\n",
      "Frost, Mr. Anthony Wood \"Archie\"  ------  Frost, Mr. Anthony Wood \"Archie\"\n",
      "Johnson, Mr. Alfred  ------  Johnson, Mrs. Oscar W (Elisabeth Vilhelmina Berg)\n",
      "Johnson, Mr. Alfred  ------  Johnson, Miss. Eleanor Ileen\n",
      "Johnson, Mr. Alfred  ------  Johnson, Mr. William Cahoone Jr\n",
      "Johnson, Mr. Alfred  ------  Johnson, Mr. Alfred\n",
      "Johnson, Mr. Alfred  ------  Johnson, Mr. Malkolm Joackim\n",
      "Johnson, Mr. Alfred  ------  Johnson, Master. Harold Theodor\n",
      "Parr, Mr. William Henry Marsh  ------  Parr, Mr. William Henry Marsh\n",
      "Watson, Mr. Ennis Hastings  ------  Watson, Mr. Ennis Hastings\n",
      "Knight, Mr. Robert J  ------  Knight, Mr. Robert J\n",
      "Andrews, Mr. Thomas Jr  ------  Andrews, Miss. Kornelia Theodosia\n",
      "Andrews, Mr. Thomas Jr  ------  Andrews, Mr. Thomas Jr\n",
      "Fry, Mr. Richard  ------  Fry, Mr. Richard\n",
      "Reuchlin, Jonkheer. John George  ------  Reuchlin, Jonkheer. John George\n"
     ]
    }
   ],
   "source": [
    "#let's see if the last names match up with anyone. As for the people who paid 512 for a ticket, I'm just going to leave them alone, I suppose they just had the best rooms on the boat.\n",
    "FareNames = []\n",
    "for name in train_data[train_data.Fare == 512.3292].Name:\n",
    "    FareNames.append(name)\n",
    "for name in train_data[train_data.Fare == 0].Name:\n",
    "    FareNames.append(name)\n",
    "\n",
    "for FareName in FareNames:\n",
    "    for name in train_data.Name:\n",
    "        if HumanName(FareName).last == HumanName(name).last:\n",
    "            print(FareName, \" ------ \", name)"
   ]
  },
  {
   "cell_type": "code",
   "execution_count": 35,
   "metadata": {},
   "outputs": [
    {
     "name": "stdout",
     "output_type": "stream",
     "text": [
      "NAME ------------------- FARE\n",
      "Johnson, Mrs. Oscar W (Elisabeth Vilhelmina Berg) 8    11.1333\n",
      "Name: Fare, dtype: float64\n",
      "Johnson, Miss. Eleanor Ileen 172    11.1333\n",
      "Name: Fare, dtype: float64\n",
      "Andrews, Miss. Kornelia Theodosia 275    77.9583\n",
      "Name: Fare, dtype: float64\n",
      "Johnson, Mr. William Cahoone Jr 302    0.0\n",
      "Name: Fare, dtype: float64\n",
      "Johnson, Mr. Alfred 597    0.0\n",
      "Name: Fare, dtype: float64\n",
      "Johnson, Mr. Malkolm Joackim 719    7.775\n",
      "Name: Fare, dtype: float64\n",
      "Hogeboom, Mrs. John C (Anna Andrews) 765    77.9583\n",
      "Name: Fare, dtype: float64\n",
      "Andrews, Mr. Thomas Jr 806    0.0\n",
      "Name: Fare, dtype: float64\n",
      "Johnson, Master. Harold Theodor 869    11.1333\n",
      "Name: Fare, dtype: float64\n",
      "\n",
      "\n",
      "There are some values here that we can match for the Johnsons and Andrews, but I want to see what their family sizes are, just to make sure that they are a member of these families.\n"
     ]
    }
   ],
   "source": [
    "print(\"NAME ------------------- FARE\")\n",
    "for name in train_data.Name:\n",
    "    if 'Johnson' in name or 'Andrews' in name:\n",
    "        print(name, train_data[train_data.Name == name].Fare)\n",
    "print(\"\\n\\nThere are some values here that we can match for the Johnsons and Andrews, but I want to see what their family sizes are, just to make sure that they are a member of these families.\")"
   ]
  },
  {
   "cell_type": "code",
   "execution_count": 36,
   "metadata": {},
   "outputs": [
    {
     "name": "stdout",
     "output_type": "stream",
     "text": [
      "302    0\n",
      "Name: FamilyMembers, dtype: int64\n",
      "597    0\n",
      "Name: FamilyMembers, dtype: int64\n",
      "806    0\n",
      "Name: FamilyMembers, dtype: int64\n",
      "\n",
      "\n",
      "That's somewhat surprising. It looks as though none of these men are members of those families. Since there aren't many people with a fare value of 0, I'm going to assign their new values to the median.\n"
     ]
    }
   ],
   "source": [
    "print(train_data[train_data.Name == 'Johnson, Mr. William Cahoone Jr'].FamilyMembers)\n",
    "print(train_data[train_data.Name == 'Johnson, Mr. Alfred'].FamilyMembers)\n",
    "print(train_data[train_data.Name == 'Andrews, Mr. Thomas Jr'].FamilyMembers)\n",
    "print(\"\\n\\nThat's somewhat surprising. It looks as though none of these men are members of those families. Since there aren't many people with a fare value of 0, I'm going to assign their new values to the median.\")"
   ]
  },
  {
   "cell_type": "code",
   "execution_count": 37,
   "metadata": {},
   "outputs": [],
   "source": [
    "train_data.loc[train_data['Fare'] == 0, 'Fare'] = train_data.Fare.median()"
   ]
  },
  {
   "cell_type": "code",
   "execution_count": 38,
   "metadata": {},
   "outputs": [],
   "source": [
    "#Next on the list is Cabins. Unfortunately, we are missing most of the information about cabins, but let's take another look at what we have."
   ]
  },
  {
   "cell_type": "code",
   "execution_count": 39,
   "metadata": {},
   "outputs": [
    {
     "data": {
      "text/plain": [
       "G6                 4\n",
       "C23 C25 C27        4\n",
       "B96 B98            4\n",
       "C22 C26            3\n",
       "F33                3\n",
       "E101               3\n",
       "F2                 3\n",
       "D                  3\n",
       "B57 B59 B63 B66    2\n",
       "B20                2\n",
       "E8                 2\n",
       "B22                2\n",
       "C123               2\n",
       "D33                2\n",
       "D20                2\n",
       "C68                2\n",
       "E33                2\n",
       "B18                2\n",
       "B49                2\n",
       "E121               2\n",
       "C65                2\n",
       "C92                2\n",
       "C125               2\n",
       "F G73              2\n",
       "C126               2\n",
       "C2                 2\n",
       "E24                2\n",
       "B77                2\n",
       "E67                2\n",
       "E25                2\n",
       "                  ..\n",
       "C104               1\n",
       "C95                1\n",
       "E68                1\n",
       "D19                1\n",
       "B50                1\n",
       "C30                1\n",
       "D10 D12            1\n",
       "C103               1\n",
       "C148               1\n",
       "E17                1\n",
       "A36                1\n",
       "F G63              1\n",
       "B19                1\n",
       "E12                1\n",
       "C32                1\n",
       "B79                1\n",
       "B102               1\n",
       "C70                1\n",
       "D46                1\n",
       "B37                1\n",
       "E49                1\n",
       "C54                1\n",
       "C90                1\n",
       "A16                1\n",
       "D50                1\n",
       "A32                1\n",
       "D21                1\n",
       "D30                1\n",
       "A10                1\n",
       "T                  1\n",
       "Name: Cabin, Length: 147, dtype: int64"
      ]
     },
     "execution_count": 39,
     "metadata": {},
     "output_type": "execute_result"
    }
   ],
   "source": [
    "train_data.Cabin.value_counts()"
   ]
  },
  {
   "cell_type": "code",
   "execution_count": 40,
   "metadata": {},
   "outputs": [
    {
     "name": "stdout",
     "output_type": "stream",
     "text": [
      "I think something can be gained by sorting cabins based on their letter (which should represent the floor of the titanic they are on; higher floor = more wealthy = closer to life boats = more likely to survive).\n"
     ]
    }
   ],
   "source": [
    "print(\"I think something can be gained by sorting cabins based on their letter (which should represent the floor of the titanic they are on; higher floor = more wealthy = closer to life boats = more likely to survive).\")"
   ]
  },
  {
   "cell_type": "code",
   "execution_count": 41,
   "metadata": {},
   "outputs": [
    {
     "name": "stdout",
     "output_type": "stream",
     "text": [
      "Survived    0    1\n",
      "Embarked          \n",
      "C          75   93\n",
      "Q          47   30\n",
      "S         427  217 \n",
      "\n",
      "C = Cherbourg Q = Queenstown S = Southampton\n"
     ]
    }
   ],
   "source": [
    "print(pd.crosstab(train_data.Embarked, train_data.Survived),\"\\n\\nC = Cherbourg Q = Queenstown S = Southampton\")"
   ]
  },
  {
   "cell_type": "code",
   "execution_count": 42,
   "metadata": {},
   "outputs": [
    {
     "name": "stdout",
     "output_type": "stream",
     "text": [
      "It seems that the French were more likely to survive (C = Cherbourg, France)\n"
     ]
    }
   ],
   "source": [
    "print(\"It seems that the French were more likely to survive (C = Cherbourg, France)\")"
   ]
  },
  {
   "cell_type": "code",
   "execution_count": 43,
   "metadata": {},
   "outputs": [
    {
     "name": "stdout",
     "output_type": "stream",
     "text": [
      "Sex       female  male\n",
      "Embarked              \n",
      "C             73    95\n",
      "Q             36    41\n",
      "S            203   441\n",
      "\n",
      "Males and females from Cherbourg who survived:\n",
      "female    64\n",
      "male      29\n",
      "Name: Sex, dtype: int64\n",
      "\n",
      " Pclass      1    2    3\n",
      "Embarked               \n",
      "C          85   17   66\n",
      "Q           2    3   72\n",
      "S         127  164  353\n",
      "\n",
      " FamilyMembers   0    1   2   3   4   5   6   7   10\n",
      "Embarked                                           \n",
      "C               85   51  23   7   2   0   0   0   0\n",
      "Q               57    9   6   0   0   5   0   0   0\n",
      "S              393  101  73  22  13  17  12   6   7\n"
     ]
    }
   ],
   "source": [
    "print(pd.crosstab(train_data.Embarked, train_data.Sex))\n",
    "print(\"\\nMales and females from Cherbourg who survived:\")\n",
    "print(train_data[(train_data.Embarked == 'C') & (train_data.Survived == 1)].Sex.value_counts())\n",
    "print(\"\\n\",pd.crosstab(train_data.Embarked, train_data.Pclass))\n",
    "print(\"\\n\",pd.crosstab(train_data.Embarked, train_data.FamilyMembers,))"
   ]
  },
  {
   "cell_type": "code",
   "execution_count": 44,
   "metadata": {},
   "outputs": [
    {
     "name": "stdout",
     "output_type": "stream",
     "text": [
      "Since More the 50% of the people boarded from Cherbourg were in PClass 1 so thats the reason which explains why more of them    survived !!!!! \n"
     ]
    }
   ],
   "source": [
    "print(\"Since More the 50% of the people boarded from Cherbourg were in PClass 1 so thats the reason which explains why more of them    survived !!!!! \")"
   ]
  },
  {
   "cell_type": "code",
   "execution_count": 45,
   "metadata": {},
   "outputs": [
    {
     "name": "stdout",
     "output_type": "stream",
     "text": [
      "     PassengerId  Survived  Pclass                                       Name  \\\n",
      "61            62         1       1                        Icard, Miss. Amelie   \n",
      "829          830         1       1  Stone, Mrs. George Nelson (Martha Evelyn)   \n",
      "\n",
      "        Sex   Age  SibSp  Parch  Ticket  Fare Cabin Embarked  FamilyMembers  \n",
      "61   female  38.0      0      0  113572  80.0   B28      NaN              0  \n",
      "829  female  62.0      0      0  113572  80.0   B28      NaN              0  \n"
     ]
    }
   ],
   "source": [
    "#Let's take care of those two missing values.\n",
    "print(train_data[train_data.Embarked.isnull()])"
   ]
  },
  {
   "cell_type": "code",
   "execution_count": 46,
   "metadata": {},
   "outputs": [],
   "source": [
    "train_data['Embarked'] = train_data['Embarked'].fillna('Empty')\n",
    "train_data.loc[train_data['Embarked'] == 'Empty', 'Embarked'] = 'S'"
   ]
  },
  {
   "cell_type": "code",
   "execution_count": 47,
   "metadata": {},
   "outputs": [
    {
     "data": {
      "text/plain": [
       "PassengerId        0\n",
       "Survived           0\n",
       "Pclass             0\n",
       "Name               0\n",
       "Sex                0\n",
       "Age                0\n",
       "SibSp              0\n",
       "Parch              0\n",
       "Ticket             0\n",
       "Fare               0\n",
       "Cabin            687\n",
       "Embarked           0\n",
       "FamilyMembers      0\n",
       "dtype: int64"
      ]
     },
     "execution_count": 47,
     "metadata": {},
     "output_type": "execute_result"
    }
   ],
   "source": [
    "# count of Data Missing from the Train_dataset\n",
    "train_data.isnull().sum()"
   ]
  },
  {
   "cell_type": "code",
   "execution_count": 48,
   "metadata": {},
   "outputs": [],
   "source": [
    "#### Feature Selection And Extraction ####"
   ]
  },
  {
   "cell_type": "code",
   "execution_count": 49,
   "metadata": {},
   "outputs": [],
   "source": [
    "def set_features(df):\n",
    "\n",
    "    #need to give males and females numeric values \n",
    "    df.loc[df[\"Sex\"] == \"male\", \"Sex\"] = 0\n",
    "    df.loc[df[\"Sex\"] == \"female\", \"Sex\"] = 1\n",
    "\n",
    "    #need to give Embarked values, numeric values.\n",
    "    #Set NAs to S as it is the most common port of departure.\n",
    "    df['Embarked'] = df['Embarked'].fillna('S')\n",
    "    df.loc[df['Embarked'] == 'S', 'Embarked'] = 0\n",
    "    df.loc[df['Embarked'] == 'C', 'Embarked'] = 1\n",
    "    df.loc[df['Embarked'] == 'Q', 'Embarked'] = 2\n",
    "\n",
    "    #Set fare values of 0 and NaN to the median value of fare.\n",
    "    df.loc[df['Fare'] == 0, 'Fare'] = df['Fare'].median()\n",
    "    for value in df['Fare']:\n",
    "        if pd.isnull(value):\n",
    "            df['Fare'] = df['Fare'].fillna(df['Fare'].median())\n",
    "\n",
    "    #If someone has a sibling or spouse onboard, SibSp needs to be 1 or greater.\n",
    "    df['Has_SibSp'] = df['SibSp'].map(lambda x: 1 if x >= 1 else 0)\n",
    "\n",
    "    #To be a parent, you need a spouse, have at least 1 child, and be older than 18.\n",
    "    #SibSp is >= 1 because you could be an adult with a sibling on board.\n",
    "    df['Parent'] = (df['SibSp'] >= 1) & (df['Parch'] > 0) & (df['Age'] >= 18)\n",
    "\n",
    "    #Single Parent can't have Spouse (duh) or siblings, minimum 1 kid, and 18 or older.\n",
    "    df['Single_Parent'] = (df['SibSp'] == 0) & (df['Parch'] > 0) & (df['Age'] >= 18)\n",
    "\n",
    "    #To be a mother, you need to be a parent and female. Fathers = Parent & Male\n",
    "    df['Mother'] = (df['Parent'] == 1) & (df['Sex'] == 1)\n",
    "    df['Father'] = (df['Parent'] == 1) & (df['Sex'] == 0)\n",
    "    df['Single_Mother'] = (df['Single_Parent'] == 1) & (df['Sex'] == 1)\n",
    "    df['Single_Father'] = (df['Single_Parent'] == 1) & (df['Sex'] == 0)\n",
    "\n",
    "    #Child has at least 1 parent and is 17 or younger\n",
    "    df['Child'] = (df['Parch'] >= 1) & (df['Age'] <= 17)\n",
    "\n",
    "    #To be a daughter, you need to be a girl, and a child.\n",
    "    #To be a son, likewise, but a boy.\n",
    "    df['Daughter'] = (df['Sex'] == 1) & (df['Child'] == 1)\n",
    "    df['Son'] = (df['Sex'] == 0) & (df['Child'] == 1)\n",
    "\n",
    "    #Only child has no siblings, and is a child\n",
    "    df['Only_Child'] = (df['Child'] == 1) & (df['SibSp'] == 0)\n",
    "\n",
    "    #Orphan if you have no parents and are 17 or younger\n",
    "    df['Orphan'] = (df['Age'] <= 17) & (df['Parch'] == 0)\n",
    "\n",
    "    #To have 'One Parent', you need 1 parent and be 17 or younger\n",
    "    df['One_Parent'] = (df['Parch'] == 1) & (df['Age'] <= 17)\n",
    "\n",
    "    #Various life stages\n",
    "    df['Infant'] = df['Age'] <= 2\n",
    "    df['Kid'] = (df['Age'] > 3) & (df['Age'] <= 12)\n",
    "    df['Teenager'] = (df['Age'] > 13) & (df['Age'] <= 17)\n",
    "    df['Adult'] = df['Age'] >= 18\n",
    "\n",
    "    #To be single, must be 18 or older, no parents/children, no siblings/spouses.\n",
    "    df['Single_Man'] = (df['Sex'] == 0) & (df['Age'] >= 18) & (df['SibSp'] == 0) & (df['Parch'] == 0)\n",
    "    df['Single_Woman'] = (df['Sex'] == 1) & (df['Age'] >= 18) & (df['SibSp'] == 0) & (df['Parch'] == 0)\n",
    "\n",
    "    #Married without kids or parents, need to be at least 18, and have at least 1 sibling or spouse.\n",
    "    df['Married_no_Kids_no_Parents'] = (df['SibSp'] >= 1) & (df['Parch'] == 0) & (df['Age'] >= 18)\n",
    "\n",
    "    #NameLength is number of characters in someone's name\n",
    "    df['NameLength'] = df['Name'].map(lambda x: len(x))\n",
    "    #print df['NameLength'].describe()\n",
    "    #Long names > 37, medium names 36-18, short names 0-17. Used describe to learn mean and standard deviation\n",
    "    df['NameLengthGroup'] = df['NameLength'].map(lambda x: 3 if x > 37 else (2 if x > 18 else 1)) \n",
    "    df['FemaleLongName'] = (df['Sex'] == 1) & (df['NameLengthGroup'] == 3)\n",
    "    df['FemaleMediumName'] = (df['Sex'] == 1) & (df['NameLengthGroup'] == 2)\n",
    "    df['FemaleShortName'] = (df['Sex'] == 1) & (df['NameLengthGroup'] == 1)\n",
    "    df['MaleLongName'] = (df['Sex'] == 0) & (df['NameLengthGroup'] == 3)\n",
    "    df['MaleMediumName'] = (df['Sex'] == 0) & (df['NameLengthGroup'] == 2)\n",
    "    df['MaleShortName'] = (df['Sex'] == 0) & (df['NameLengthGroup'] == 1)\n",
    "    \n",
    "    #Sort fares into three even categories.\n",
    "    #print df['Fare'].describe()\n",
    "    df['HighFare'] = df['Fare'] >= 31\n",
    "    df['MediumFare'] = (df['Fare'] < 31) & (df['Fare'] > 8)\n",
    "    df['LowFare'] = df['Fare'] <= 8\n",
    "\n",
    "    #Combined class and gender to better organize people.\n",
    "    df['RichWoman'] = (df['Pclass'] == 1) & (df['Sex'] == 1) & (df['Age'] >= 18)\n",
    "    df['MiddleClassWoman'] = (df['Pclass'] == 2) & (df['Sex'] == 1) & (df['Age'] >= 18)\n",
    "    df['PoorWoman'] = (df['Pclass'] == 3) & (df['Sex'] == 1) & (df['Age'] >= 18)\n",
    "    df['RichMan'] = (df['Pclass'] == 1) & (df['Sex'] == 0) & (df['Age'] >= 18)\n",
    "    df['MiddleClassMan'] = (df['Pclass'] == 2) & (df['Sex'] == 0) & (df['Age'] >= 18)\n",
    "    df['PoorMan'] = (df['Pclass'] == 3) & (df['Sex'] == 0) & (df['Age'] >= 18)\n",
    "    df['RichChild'] = (df['Pclass'] == 1) & (df['Age'] <= 17)\n",
    "    df['MiddleClassChild'] = (df['Pclass'] == 2) & (df['Age'] <= 17)\n",
    "    df['PoorChild'] = (df['Pclass'] == 3) & (df['Age'] <= 17)\n",
    "    df['RichGirl'] = (df['RichChild'] == 1) & (df['Sex'] == 1)\n",
    "    df['MiddleClassGirl'] = (df['MiddleClassChild'] == 1) & (df['Sex'] == 1)\n",
    "    df['PoorGirl'] = (df['PoorChild'] == 1) & (df['Sex'] == 1)\n",
    "    df['RichBoy'] = (df['RichChild'] == 1) & (df['Sex'] == 0)\n",
    "    df['MiddleClassBoy'] = (df['MiddleClassChild'] == 1) & (df['Sex'] == 0)\n",
    "    df['PoorBoy'] = (df['PoorChild'] == 1) & (df['Sex'] == 0)\n",
    "\n",
    "    #Family size is the sum of siblings, spouses, parents, and children.\n",
    "    df['FamilySize'] = df['SibSp'] + df['Parch']\n",
    "    df['SmallFamily'] = df['FamilySize'] <= 3\n",
    "    df['MediumFamily'] = (df['FamilySize'] >= 4) & (df['FamilySize'] <= 6)\n",
    "    df['LargeFamily'] = df['FamilySize'] >= 7\n",
    "\n",
    "    #Based on correlation and plot analysis, these features were combined; hoping for useful learning.\n",
    "    df['Pclass*Age'] = df['Pclass'] * df['Age']\n",
    "    df['Fare/Pclass'] = df['Fare'] / df['Pclass']\n",
    "    df['FamilySize*Pclass'] = df['FamilySize'] * df['Pclass']\n",
    "\n",
    "    #a helper function to provide ids to the variations of a variable.\n",
    "    #the ids for each variation of the variable are stored in the variable_id_mapping (a dictionary)\n",
    "    def id_mapping(variable_id, variable_id_mapping):\n",
    "        if variable_id not in variable_id_mapping:\n",
    "            if len(variable_id_mapping) == 0:\n",
    "                current_id = 1\n",
    "            else:\n",
    "                current_id = (max(variable_id_mapping.items(), key=operator.itemgetter(1))[1] + 1)\n",
    "            variable_id_mapping[variable_id] = current_id\n",
    "        return variable_id_mapping[variable_id]\n",
    "\n",
    "    #create a mapping of the title_ids\n",
    "    title_id_mapping = {}\n",
    "    def get_title_id(row):\n",
    "        title = row[\"Name\"].split(' ')[1]\n",
    "        title_id = \"{0}\".format(title)\n",
    "        return id_mapping(title_id, title_id_mapping)\n",
    "    df[\"TitleID\"] = df.apply(get_title_id, axis = 1)\n",
    "\n",
    "    #cabin_level_ids relate to the first letter in the cabin column.\n",
    "    cabin_level_id_mapping = {}\n",
    "    def get_cabin_level(row):\n",
    "        cabin_level = str(row['Cabin'])[0]\n",
    "        cabin_level_id = \"{0}\".format(cabin_level)\n",
    "        return id_mapping(cabin_level_id, cabin_level_id_mapping)\n",
    "    df[\"CabinLevelID\"] = df.apply(get_cabin_level, axis = 1)\n",
    "    \n",
    "    #If the cabin number is konwn, Known_cabin = 1, else 0\n",
    "    df['Known_Cabin'] = df['Cabin'].map(lambda x: 1 if pd.notnull(x) else 0)\n",
    "    \n",
    "    #Find the length of the ticket, perhaps longer tickets are for include more amenities, \n",
    "    #therefore associated with wealth.\n",
    "    df['TicketLength'] = df['Ticket'].map(lambda x: len(df['Ticket']))\n",
    "    \n",
    "    #ticket_id realtes to the first character in the ticket.\n",
    "    ticket_id_mapping = {}\n",
    "    def get_ticket_id(row):\n",
    "        ticket = str(row['Ticket'])[0]\n",
    "        ticket_id = \"{0}\".format(ticket)\n",
    "        return id_mapping(ticket_id, ticket_id_mapping)\n",
    "    df['TicketID'] = df.apply(get_ticket_id, axis = 1)\n",
    "    \n",
    "    #If there is no value for cabin, set it to 0.\n",
    "    for value in df['Cabin']:\n",
    "        if pd.isnull(value) or pd.isna(value):\n",
    "            value = 0\n",
    "\n",
    "    #dict to give each family a unique id\n",
    "    family_id_mapping = {}\n",
    "    def get_family_id(row):\n",
    "        last_name = row['Name'].split(',')[0]\n",
    "        family_id = \"{0}{1}\".format(last_name, row[\"FamilySize\"])\n",
    "        return id_mapping(family_id, family_id_mapping)\n",
    "    df[\"FamilyID\"]  = df.apply(get_family_id, axis = 1)"
   ]
  },
  {
   "cell_type": "code",
   "execution_count": 50,
   "metadata": {},
   "outputs": [],
   "source": [
    "#### MACHINE LEARNING #####\n",
    "set_features(train_data)\n",
    "set_features(test_data)"
   ]
  },
  {
   "cell_type": "code",
   "execution_count": 51,
   "metadata": {},
   "outputs": [
    {
     "data": {
      "text/html": [
       "<div>\n",
       "<style scoped>\n",
       "    .dataframe tbody tr th:only-of-type {\n",
       "        vertical-align: middle;\n",
       "    }\n",
       "\n",
       "    .dataframe tbody tr th {\n",
       "        vertical-align: top;\n",
       "    }\n",
       "\n",
       "    .dataframe thead th {\n",
       "        text-align: right;\n",
       "    }\n",
       "</style>\n",
       "<table border=\"1\" class=\"dataframe\">\n",
       "  <thead>\n",
       "    <tr style=\"text-align: right;\">\n",
       "      <th></th>\n",
       "      <th>PassengerId</th>\n",
       "      <th>Survived</th>\n",
       "      <th>Pclass</th>\n",
       "      <th>Name</th>\n",
       "      <th>Sex</th>\n",
       "      <th>Age</th>\n",
       "      <th>SibSp</th>\n",
       "      <th>Parch</th>\n",
       "      <th>Ticket</th>\n",
       "      <th>Fare</th>\n",
       "      <th>...</th>\n",
       "      <th>LargeFamily</th>\n",
       "      <th>Pclass*Age</th>\n",
       "      <th>Fare/Pclass</th>\n",
       "      <th>FamilySize*Pclass</th>\n",
       "      <th>TitleID</th>\n",
       "      <th>CabinLevelID</th>\n",
       "      <th>Known_Cabin</th>\n",
       "      <th>TicketLength</th>\n",
       "      <th>TicketID</th>\n",
       "      <th>FamilyID</th>\n",
       "    </tr>\n",
       "  </thead>\n",
       "  <tbody>\n",
       "    <tr>\n",
       "      <th>0</th>\n",
       "      <td>1</td>\n",
       "      <td>0</td>\n",
       "      <td>3</td>\n",
       "      <td>Braund, Mr. Owen Harris</td>\n",
       "      <td>0</td>\n",
       "      <td>22.0</td>\n",
       "      <td>1</td>\n",
       "      <td>0</td>\n",
       "      <td>A/5 21171</td>\n",
       "      <td>7.2500</td>\n",
       "      <td>...</td>\n",
       "      <td>False</td>\n",
       "      <td>66.0</td>\n",
       "      <td>2.416667</td>\n",
       "      <td>3</td>\n",
       "      <td>1</td>\n",
       "      <td>1</td>\n",
       "      <td>0</td>\n",
       "      <td>891</td>\n",
       "      <td>1</td>\n",
       "      <td>1</td>\n",
       "    </tr>\n",
       "    <tr>\n",
       "      <th>1</th>\n",
       "      <td>2</td>\n",
       "      <td>1</td>\n",
       "      <td>1</td>\n",
       "      <td>Cumings, Mrs. John Bradley (Florence Briggs Th...</td>\n",
       "      <td>1</td>\n",
       "      <td>38.0</td>\n",
       "      <td>1</td>\n",
       "      <td>0</td>\n",
       "      <td>PC 17599</td>\n",
       "      <td>71.2833</td>\n",
       "      <td>...</td>\n",
       "      <td>False</td>\n",
       "      <td>38.0</td>\n",
       "      <td>71.283300</td>\n",
       "      <td>1</td>\n",
       "      <td>2</td>\n",
       "      <td>2</td>\n",
       "      <td>1</td>\n",
       "      <td>891</td>\n",
       "      <td>2</td>\n",
       "      <td>2</td>\n",
       "    </tr>\n",
       "    <tr>\n",
       "      <th>2</th>\n",
       "      <td>3</td>\n",
       "      <td>1</td>\n",
       "      <td>3</td>\n",
       "      <td>Heikkinen, Miss. Laina</td>\n",
       "      <td>1</td>\n",
       "      <td>26.0</td>\n",
       "      <td>0</td>\n",
       "      <td>0</td>\n",
       "      <td>STON/O2. 3101282</td>\n",
       "      <td>7.9250</td>\n",
       "      <td>...</td>\n",
       "      <td>False</td>\n",
       "      <td>78.0</td>\n",
       "      <td>2.641667</td>\n",
       "      <td>0</td>\n",
       "      <td>3</td>\n",
       "      <td>1</td>\n",
       "      <td>0</td>\n",
       "      <td>891</td>\n",
       "      <td>3</td>\n",
       "      <td>3</td>\n",
       "    </tr>\n",
       "    <tr>\n",
       "      <th>3</th>\n",
       "      <td>4</td>\n",
       "      <td>1</td>\n",
       "      <td>1</td>\n",
       "      <td>Futrelle, Mrs. Jacques Heath (Lily May Peel)</td>\n",
       "      <td>1</td>\n",
       "      <td>35.0</td>\n",
       "      <td>1</td>\n",
       "      <td>0</td>\n",
       "      <td>113803</td>\n",
       "      <td>53.1000</td>\n",
       "      <td>...</td>\n",
       "      <td>False</td>\n",
       "      <td>35.0</td>\n",
       "      <td>53.100000</td>\n",
       "      <td>1</td>\n",
       "      <td>2</td>\n",
       "      <td>2</td>\n",
       "      <td>1</td>\n",
       "      <td>891</td>\n",
       "      <td>4</td>\n",
       "      <td>4</td>\n",
       "    </tr>\n",
       "    <tr>\n",
       "      <th>4</th>\n",
       "      <td>5</td>\n",
       "      <td>0</td>\n",
       "      <td>3</td>\n",
       "      <td>Allen, Mr. William Henry</td>\n",
       "      <td>0</td>\n",
       "      <td>35.0</td>\n",
       "      <td>0</td>\n",
       "      <td>0</td>\n",
       "      <td>373450</td>\n",
       "      <td>8.0500</td>\n",
       "      <td>...</td>\n",
       "      <td>False</td>\n",
       "      <td>105.0</td>\n",
       "      <td>2.683333</td>\n",
       "      <td>0</td>\n",
       "      <td>1</td>\n",
       "      <td>1</td>\n",
       "      <td>0</td>\n",
       "      <td>891</td>\n",
       "      <td>5</td>\n",
       "      <td>5</td>\n",
       "    </tr>\n",
       "  </tbody>\n",
       "</table>\n",
       "<p>5 rows × 72 columns</p>\n",
       "</div>"
      ],
      "text/plain": [
       "   PassengerId  Survived  Pclass  \\\n",
       "0            1         0       3   \n",
       "1            2         1       1   \n",
       "2            3         1       3   \n",
       "3            4         1       1   \n",
       "4            5         0       3   \n",
       "\n",
       "                                                Name  Sex   Age  SibSp  Parch  \\\n",
       "0                            Braund, Mr. Owen Harris    0  22.0      1      0   \n",
       "1  Cumings, Mrs. John Bradley (Florence Briggs Th...    1  38.0      1      0   \n",
       "2                             Heikkinen, Miss. Laina    1  26.0      0      0   \n",
       "3       Futrelle, Mrs. Jacques Heath (Lily May Peel)    1  35.0      1      0   \n",
       "4                           Allen, Mr. William Henry    0  35.0      0      0   \n",
       "\n",
       "             Ticket     Fare  ... LargeFamily  Pclass*Age  Fare/Pclass  \\\n",
       "0         A/5 21171   7.2500  ...       False        66.0     2.416667   \n",
       "1          PC 17599  71.2833  ...       False        38.0    71.283300   \n",
       "2  STON/O2. 3101282   7.9250  ...       False        78.0     2.641667   \n",
       "3            113803  53.1000  ...       False        35.0    53.100000   \n",
       "4            373450   8.0500  ...       False       105.0     2.683333   \n",
       "\n",
       "   FamilySize*Pclass  TitleID  CabinLevelID  Known_Cabin  TicketLength  \\\n",
       "0                  3        1             1            0           891   \n",
       "1                  1        2             2            1           891   \n",
       "2                  0        3             1            0           891   \n",
       "3                  1        2             2            1           891   \n",
       "4                  0        1             1            0           891   \n",
       "\n",
       "   TicketID  FamilyID  \n",
       "0         1         1  \n",
       "1         2         2  \n",
       "2         3         3  \n",
       "3         4         4  \n",
       "4         5         5  \n",
       "\n",
       "[5 rows x 72 columns]"
      ]
     },
     "execution_count": 51,
     "metadata": {},
     "output_type": "execute_result"
    }
   ],
   "source": [
    "train_data.head()"
   ]
  },
  {
   "cell_type": "code",
   "execution_count": 52,
   "metadata": {},
   "outputs": [
    {
     "data": {
      "text/html": [
       "<div>\n",
       "<style scoped>\n",
       "    .dataframe tbody tr th:only-of-type {\n",
       "        vertical-align: middle;\n",
       "    }\n",
       "\n",
       "    .dataframe tbody tr th {\n",
       "        vertical-align: top;\n",
       "    }\n",
       "\n",
       "    .dataframe thead th {\n",
       "        text-align: right;\n",
       "    }\n",
       "</style>\n",
       "<table border=\"1\" class=\"dataframe\">\n",
       "  <thead>\n",
       "    <tr style=\"text-align: right;\">\n",
       "      <th></th>\n",
       "      <th>PassengerId</th>\n",
       "      <th>Survived</th>\n",
       "      <th>Pclass</th>\n",
       "      <th>Sex</th>\n",
       "      <th>Age</th>\n",
       "      <th>SibSp</th>\n",
       "      <th>Parch</th>\n",
       "      <th>Fare</th>\n",
       "      <th>Embarked</th>\n",
       "      <th>FamilyMembers</th>\n",
       "      <th>...</th>\n",
       "      <th>FamilySize</th>\n",
       "      <th>Pclass*Age</th>\n",
       "      <th>Fare/Pclass</th>\n",
       "      <th>FamilySize*Pclass</th>\n",
       "      <th>TitleID</th>\n",
       "      <th>CabinLevelID</th>\n",
       "      <th>Known_Cabin</th>\n",
       "      <th>TicketLength</th>\n",
       "      <th>TicketID</th>\n",
       "      <th>FamilyID</th>\n",
       "    </tr>\n",
       "  </thead>\n",
       "  <tbody>\n",
       "    <tr>\n",
       "      <th>count</th>\n",
       "      <td>891.000000</td>\n",
       "      <td>891.000000</td>\n",
       "      <td>891.000000</td>\n",
       "      <td>891.000000</td>\n",
       "      <td>891.000000</td>\n",
       "      <td>891.000000</td>\n",
       "      <td>891.000000</td>\n",
       "      <td>891.000000</td>\n",
       "      <td>891.000000</td>\n",
       "      <td>891.000000</td>\n",
       "      <td>...</td>\n",
       "      <td>891.000000</td>\n",
       "      <td>891.000000</td>\n",
       "      <td>891.000000</td>\n",
       "      <td>891.000000</td>\n",
       "      <td>891.000000</td>\n",
       "      <td>891.000000</td>\n",
       "      <td>891.000000</td>\n",
       "      <td>891.0</td>\n",
       "      <td>891.000000</td>\n",
       "      <td>891.000000</td>\n",
       "    </tr>\n",
       "    <tr>\n",
       "      <th>mean</th>\n",
       "      <td>446.000000</td>\n",
       "      <td>0.383838</td>\n",
       "      <td>2.308642</td>\n",
       "      <td>0.352413</td>\n",
       "      <td>29.758889</td>\n",
       "      <td>0.523008</td>\n",
       "      <td>0.381594</td>\n",
       "      <td>32.447545</td>\n",
       "      <td>0.361392</td>\n",
       "      <td>0.904602</td>\n",
       "      <td>...</td>\n",
       "      <td>0.904602</td>\n",
       "      <td>65.122155</td>\n",
       "      <td>25.198059</td>\n",
       "      <td>2.177329</td>\n",
       "      <td>2.473625</td>\n",
       "      <td>1.811448</td>\n",
       "      <td>0.228956</td>\n",
       "      <td>891.0</td>\n",
       "      <td>5.003367</td>\n",
       "      <td>318.831650</td>\n",
       "    </tr>\n",
       "    <tr>\n",
       "      <th>std</th>\n",
       "      <td>257.353842</td>\n",
       "      <td>0.486592</td>\n",
       "      <td>0.836071</td>\n",
       "      <td>0.477990</td>\n",
       "      <td>13.002570</td>\n",
       "      <td>1.102743</td>\n",
       "      <td>0.806057</td>\n",
       "      <td>49.570235</td>\n",
       "      <td>0.635673</td>\n",
       "      <td>1.613459</td>\n",
       "      <td>...</td>\n",
       "      <td>1.613459</td>\n",
       "      <td>33.037961</td>\n",
       "      <td>51.187157</td>\n",
       "      <td>4.586495</td>\n",
       "      <td>3.728742</td>\n",
       "      <td>1.815143</td>\n",
       "      <td>0.420397</td>\n",
       "      <td>0.0</td>\n",
       "      <td>2.094667</td>\n",
       "      <td>204.574776</td>\n",
       "    </tr>\n",
       "    <tr>\n",
       "      <th>min</th>\n",
       "      <td>1.000000</td>\n",
       "      <td>0.000000</td>\n",
       "      <td>1.000000</td>\n",
       "      <td>0.000000</td>\n",
       "      <td>0.420000</td>\n",
       "      <td>0.000000</td>\n",
       "      <td>0.000000</td>\n",
       "      <td>4.012500</td>\n",
       "      <td>0.000000</td>\n",
       "      <td>0.000000</td>\n",
       "      <td>...</td>\n",
       "      <td>0.000000</td>\n",
       "      <td>0.920000</td>\n",
       "      <td>1.337500</td>\n",
       "      <td>0.000000</td>\n",
       "      <td>1.000000</td>\n",
       "      <td>1.000000</td>\n",
       "      <td>0.000000</td>\n",
       "      <td>891.0</td>\n",
       "      <td>1.000000</td>\n",
       "      <td>1.000000</td>\n",
       "    </tr>\n",
       "    <tr>\n",
       "      <th>25%</th>\n",
       "      <td>223.500000</td>\n",
       "      <td>0.000000</td>\n",
       "      <td>2.000000</td>\n",
       "      <td>0.000000</td>\n",
       "      <td>22.000000</td>\n",
       "      <td>0.000000</td>\n",
       "      <td>0.000000</td>\n",
       "      <td>7.925000</td>\n",
       "      <td>0.000000</td>\n",
       "      <td>0.000000</td>\n",
       "      <td>...</td>\n",
       "      <td>0.000000</td>\n",
       "      <td>40.000000</td>\n",
       "      <td>2.641667</td>\n",
       "      <td>0.000000</td>\n",
       "      <td>1.000000</td>\n",
       "      <td>1.000000</td>\n",
       "      <td>0.000000</td>\n",
       "      <td>891.0</td>\n",
       "      <td>4.000000</td>\n",
       "      <td>139.500000</td>\n",
       "    </tr>\n",
       "    <tr>\n",
       "      <th>50%</th>\n",
       "      <td>446.000000</td>\n",
       "      <td>0.000000</td>\n",
       "      <td>3.000000</td>\n",
       "      <td>0.000000</td>\n",
       "      <td>30.000000</td>\n",
       "      <td>0.000000</td>\n",
       "      <td>0.000000</td>\n",
       "      <td>14.454200</td>\n",
       "      <td>0.000000</td>\n",
       "      <td>0.000000</td>\n",
       "      <td>...</td>\n",
       "      <td>0.000000</td>\n",
       "      <td>63.000000</td>\n",
       "      <td>6.500000</td>\n",
       "      <td>0.000000</td>\n",
       "      <td>1.000000</td>\n",
       "      <td>1.000000</td>\n",
       "      <td>0.000000</td>\n",
       "      <td>891.0</td>\n",
       "      <td>5.000000</td>\n",
       "      <td>304.000000</td>\n",
       "    </tr>\n",
       "    <tr>\n",
       "      <th>75%</th>\n",
       "      <td>668.500000</td>\n",
       "      <td>1.000000</td>\n",
       "      <td>3.000000</td>\n",
       "      <td>1.000000</td>\n",
       "      <td>35.000000</td>\n",
       "      <td>1.000000</td>\n",
       "      <td>0.000000</td>\n",
       "      <td>31.000000</td>\n",
       "      <td>1.000000</td>\n",
       "      <td>1.000000</td>\n",
       "      <td>...</td>\n",
       "      <td>1.000000</td>\n",
       "      <td>90.000000</td>\n",
       "      <td>23.183333</td>\n",
       "      <td>3.000000</td>\n",
       "      <td>3.000000</td>\n",
       "      <td>1.000000</td>\n",
       "      <td>0.000000</td>\n",
       "      <td>891.0</td>\n",
       "      <td>6.000000</td>\n",
       "      <td>491.500000</td>\n",
       "    </tr>\n",
       "    <tr>\n",
       "      <th>max</th>\n",
       "      <td>891.000000</td>\n",
       "      <td>1.000000</td>\n",
       "      <td>3.000000</td>\n",
       "      <td>1.000000</td>\n",
       "      <td>80.000000</td>\n",
       "      <td>8.000000</td>\n",
       "      <td>6.000000</td>\n",
       "      <td>512.329200</td>\n",
       "      <td>2.000000</td>\n",
       "      <td>10.000000</td>\n",
       "      <td>...</td>\n",
       "      <td>10.000000</td>\n",
       "      <td>222.000000</td>\n",
       "      <td>512.329200</td>\n",
       "      <td>30.000000</td>\n",
       "      <td>31.000000</td>\n",
       "      <td>9.000000</td>\n",
       "      <td>1.000000</td>\n",
       "      <td>891.0</td>\n",
       "      <td>16.000000</td>\n",
       "      <td>701.000000</td>\n",
       "    </tr>\n",
       "  </tbody>\n",
       "</table>\n",
       "<p>8 rows × 23 columns</p>\n",
       "</div>"
      ],
      "text/plain": [
       "       PassengerId    Survived      Pclass         Sex         Age  \\\n",
       "count   891.000000  891.000000  891.000000  891.000000  891.000000   \n",
       "mean    446.000000    0.383838    2.308642    0.352413   29.758889   \n",
       "std     257.353842    0.486592    0.836071    0.477990   13.002570   \n",
       "min       1.000000    0.000000    1.000000    0.000000    0.420000   \n",
       "25%     223.500000    0.000000    2.000000    0.000000   22.000000   \n",
       "50%     446.000000    0.000000    3.000000    0.000000   30.000000   \n",
       "75%     668.500000    1.000000    3.000000    1.000000   35.000000   \n",
       "max     891.000000    1.000000    3.000000    1.000000   80.000000   \n",
       "\n",
       "            SibSp       Parch        Fare    Embarked  FamilyMembers  ...  \\\n",
       "count  891.000000  891.000000  891.000000  891.000000     891.000000  ...   \n",
       "mean     0.523008    0.381594   32.447545    0.361392       0.904602  ...   \n",
       "std      1.102743    0.806057   49.570235    0.635673       1.613459  ...   \n",
       "min      0.000000    0.000000    4.012500    0.000000       0.000000  ...   \n",
       "25%      0.000000    0.000000    7.925000    0.000000       0.000000  ...   \n",
       "50%      0.000000    0.000000   14.454200    0.000000       0.000000  ...   \n",
       "75%      1.000000    0.000000   31.000000    1.000000       1.000000  ...   \n",
       "max      8.000000    6.000000  512.329200    2.000000      10.000000  ...   \n",
       "\n",
       "       FamilySize  Pclass*Age  Fare/Pclass  FamilySize*Pclass     TitleID  \\\n",
       "count  891.000000  891.000000   891.000000         891.000000  891.000000   \n",
       "mean     0.904602   65.122155    25.198059           2.177329    2.473625   \n",
       "std      1.613459   33.037961    51.187157           4.586495    3.728742   \n",
       "min      0.000000    0.920000     1.337500           0.000000    1.000000   \n",
       "25%      0.000000   40.000000     2.641667           0.000000    1.000000   \n",
       "50%      0.000000   63.000000     6.500000           0.000000    1.000000   \n",
       "75%      1.000000   90.000000    23.183333           3.000000    3.000000   \n",
       "max     10.000000  222.000000   512.329200          30.000000   31.000000   \n",
       "\n",
       "       CabinLevelID  Known_Cabin  TicketLength    TicketID    FamilyID  \n",
       "count    891.000000   891.000000         891.0  891.000000  891.000000  \n",
       "mean       1.811448     0.228956         891.0    5.003367  318.831650  \n",
       "std        1.815143     0.420397           0.0    2.094667  204.574776  \n",
       "min        1.000000     0.000000         891.0    1.000000    1.000000  \n",
       "25%        1.000000     0.000000         891.0    4.000000  139.500000  \n",
       "50%        1.000000     0.000000         891.0    5.000000  304.000000  \n",
       "75%        1.000000     0.000000         891.0    6.000000  491.500000  \n",
       "max        9.000000     1.000000         891.0   16.000000  701.000000  \n",
       "\n",
       "[8 rows x 23 columns]"
      ]
     },
     "execution_count": 52,
     "metadata": {},
     "output_type": "execute_result"
    }
   ],
   "source": [
    "train_data.describe()"
   ]
  },
  {
   "cell_type": "code",
   "execution_count": 53,
   "metadata": {},
   "outputs": [
    {
     "name": "stdout",
     "output_type": "stream",
     "text": [
      "65\n"
     ]
    }
   ],
   "source": [
    "# list of all of our numeric features, which will be used for machine learning.\n",
    "Features = ['Pclass','Sex','Age','SibSp','Parch','Fare','Embarked',\n",
    "              'Has_SibSp', 'Parent','Mother','Father','Daughter','Son',\n",
    "              'Married_no_Kids_no_Parents','TitleID','FamilySize','FamilyID',\n",
    "              'Known_Cabin','Single_Parent','Single_Mother','Single_Father',\n",
    "              'Child','Only_Child','One_Parent','Single_Man','Single_Woman',\n",
    "              'RichWoman','MiddleClassWoman','PoorWoman','RichMan','MiddleClassMan',\n",
    "              'PoorMan','RichChild','MiddleClassChild','PoorChild','Orphan',\n",
    "              'Infant','Teenager','Adult','Pclass*Age','SmallFamily',\n",
    "              'MediumFamily','LargeFamily','CabinLevelID','Fare/Pclass',\n",
    "              'RichGirl','MiddleClassGirl','PoorGirl','RichBoy','MiddleClassBoy',\n",
    "              'PoorBoy','NameLength','NameLengthGroup','FemaleLongName','FemaleMediumName',\n",
    "              'FemaleShortName','MaleLongName','MaleMediumName','MaleShortName',\n",
    "              'FamilySize*Pclass','LowFare','MediumFare','HighFare','TicketLength','TicketID']\n",
    "print(len(Features))"
   ]
  },
  {
   "cell_type": "code",
   "execution_count": 54,
   "metadata": {},
   "outputs": [],
   "source": [
    "#Spliting the train_Data set\n",
    "trainData, testData = train_test_split(train_data, test_size = 0.3,random_state = 0)"
   ]
  },
  {
   "cell_type": "code",
   "execution_count": 55,
   "metadata": {},
   "outputs": [],
   "source": [
    " #The six algorithms are: RandomForestClassifier, GaussianNB , LogisticRegression,SVC,DT and KNeighborsClassifier."
   ]
  },
  {
   "cell_type": "code",
   "execution_count": 56,
   "metadata": {},
   "outputs": [
    {
     "name": "stdout",
     "output_type": "stream",
     "text": [
      "\n"
     ]
    }
   ],
   "source": [
    "# Random Forest Classifier\n",
    "randomForest_pipe = Pipeline(steps = [('feature_union', FeatureUnion([('pca', PCA()),('select_KBest', SelectKBest())])),\n",
    "                                      ('randomForest', RandomForestClassifier())])\n",
    "\n",
    "randomForest_parameters = dict(feature_union__pca__n_components = [12],\n",
    "                               feature_union__pca__whiten = [False],\n",
    "                               feature_union__select_KBest__k = [35],\n",
    "                               randomForest__n_estimators = [300],\n",
    "                               randomForest__max_leaf_nodes = [10],)\n",
    "\n",
    "randomForest_grid_search = GridSearchCV(randomForest_pipe, randomForest_parameters, cv = 10, scoring = 'accuracy')\n",
    "\n",
    "randomForest_grid_search.fit(trainData[Features], trainData['Survived'])\n",
    "print()"
   ]
  },
  {
   "cell_type": "code",
   "execution_count": 57,
   "metadata": {},
   "outputs": [
    {
     "name": "stdout",
     "output_type": "stream",
     "text": [
      "\n"
     ]
    }
   ],
   "source": [
    "lr_pipe = Pipeline(steps = [('feature_union', FeatureUnion([('pca', PCA()),('select_KBest', SelectKBest())] )),\n",
    "                            ('lr', LogisticRegression())\n",
    "                            ])\n",
    "\n",
    "lr_parameters = dict(feature_union__pca__n_components = [25],\n",
    "                      feature_union__pca__whiten = [False],\n",
    "                      feature_union__select_KBest__k = [35],\n",
    "                      lr__fit_intercept = ['True'],\n",
    "                      lr__C = [1]\n",
    "                     )\n",
    "\n",
    "lr_grid_search = GridSearchCV(lr_pipe, lr_parameters, cv = 10, scoring = 'accuracy')\n",
    "\n",
    "lr_grid_search.fit(trainData[Features], trainData['Survived'])\n",
    "print()"
   ]
  },
  {
   "cell_type": "code",
   "execution_count": 58,
   "metadata": {},
   "outputs": [
    {
     "name": "stdout",
     "output_type": "stream",
     "text": [
      "\n"
     ]
    }
   ],
   "source": [
    "gau_pipe = Pipeline(steps = [('feature_union', FeatureUnion([('pca', PCA()),('select_KBest', SelectKBest()) ])),\n",
    "                             ('gau', GaussianNB())\n",
    "                            ])\n",
    "\n",
    "gau_parameters = dict(feature_union__pca__n_components = [12],\n",
    "                      feature_union__pca__whiten = [True],\n",
    "                      feature_union__select_KBest__k = [45],\n",
    "                      )\n",
    "\n",
    "gau_grid_search = GridSearchCV(gau_pipe, gau_parameters, cv = 10, scoring = 'accuracy')\n",
    "\n",
    "gau_grid_search.fit(trainData[Features], trainData['Survived'])\n",
    "print()"
   ]
  },
  {
   "cell_type": "code",
   "execution_count": 59,
   "metadata": {},
   "outputs": [
    {
     "name": "stdout",
     "output_type": "stream",
     "text": [
      "\n"
     ]
    }
   ],
   "source": [
    "kn_pipe = Pipeline(steps = [('feature_union', FeatureUnion([('pca', PCA()),('select_KBest', SelectKBest())] )),\n",
    "                            ('kn', neighbors.KNeighborsClassifier())\n",
    "                            ])\n",
    "\n",
    "kn_parameters = dict(feature_union__pca__n_components = [30],\n",
    "                      feature_union__pca__whiten = [True],\n",
    "                      feature_union__select_KBest__k = [45],\n",
    "                      kn__n_neighbors = [4],\n",
    "                      kn__algorithm = ['auto'],\n",
    "                      kn__leaf_size = [10],\n",
    "                      kn__weights = ['uniform'],\n",
    "                      kn__p = [1]\n",
    "                     )\n",
    "\n",
    "kn_grid_search = GridSearchCV(kn_pipe, kn_parameters, cv = 10, scoring = 'accuracy')\n",
    "\n",
    "kn_grid_search.fit(trainData[Features], trainData['Survived'])\n",
    "print()"
   ]
  },
  {
   "cell_type": "code",
   "execution_count": 60,
   "metadata": {},
   "outputs": [
    {
     "name": "stdout",
     "output_type": "stream",
     "text": [
      "\n"
     ]
    }
   ],
   "source": [
    "#SVC\n",
    "svc_pipe = Pipeline(steps = [('feature_union', FeatureUnion([('pca',PCA()),('select_KBest', SelectKBest())] )),\n",
    "                            ('svc',SVC())\n",
    "                            ])\n",
    "svc_parameters = dict(feature_union__pca__n_components = [12],\n",
    "                      feature_union__pca__whiten = [True],\n",
    "                      feature_union__select_KBest__k = [45],\n",
    "                      svc__gamma = [0.001],\n",
    "                      svc__random_state = [0],\n",
    "                      svc__kernel = ['rbf'],\n",
    "                      #svc__degree = [2]\n",
    "                     )\n",
    "svc_grid_search = GridSearchCV(svc_pipe, svc_parameters, cv=10, scoring='accuracy')\n",
    "\n",
    "svc_grid_search.fit(trainData[Features],trainData['Survived'])\n",
    "print()"
   ]
  },
  {
   "cell_type": "code",
   "execution_count": 61,
   "metadata": {},
   "outputs": [
    {
     "name": "stdout",
     "output_type": "stream",
     "text": [
      "\n"
     ]
    }
   ],
   "source": [
    "#DT\n",
    "dt_pipe = Pipeline(steps = [('feature_union', FeatureUnion( [('pca',PCA()),('select_KBest', SelectKBest())] )),\n",
    "                            ('dt',DecisionTreeClassifier())\n",
    "                           ])\n",
    "dt_parameters = dict(feature_union__pca__n_components = [12],\n",
    "                      feature_union__pca__whiten = [True],\n",
    "                      feature_union__select_KBest__k = [45],\n",
    "                      dt__random_state = [0]\n",
    "                    )\n",
    "dt_grid_search = GridSearchCV(dt_pipe, dt_parameters, cv=10, scoring='accuracy')\n",
    "dt_grid_search.fit(trainData[Features],trainData['Survived'])\n",
    "print()"
   ]
  },
  {
   "cell_type": "code",
   "execution_count": 62,
   "metadata": {},
   "outputs": [],
   "source": [
    "# storing all the algos in a dictionary"
   ]
  },
  {
   "cell_type": "code",
   "execution_count": 63,
   "metadata": {},
   "outputs": [],
   "source": [
    "algos = {gau_grid_search: \"Gaussian NB\",\n",
    "         lr_grid_search: \"Logistic Regression\",\n",
    "         kn_grid_search: \"KNeighbor KNN\",\n",
    "         svc_grid_search:\"SVC\",\n",
    "         dt_grid_search: \"DecisionTree \",\n",
    "         randomForest_grid_search: \"RandomForest\"\n",
    "        }"
   ]
  },
  {
   "cell_type": "code",
   "execution_count": 64,
   "metadata": {
    "scrolled": true
   },
   "outputs": [
    {
     "name": "stdout",
     "output_type": "stream",
     "text": [
      "------------------------------------------------------------\n",
      "Gaussian NB testData score: 79.8507462686567\n",
      "------------------------------------------------------------\n",
      "Logistic Regression testData score: 83.5820895522388\n",
      "------------------------------------------------------------\n",
      "KNeighbor KNN testData score: 77.61194029850746\n",
      "------------------------------------------------------------\n",
      "SVC testData score: 76.49253731343283\n",
      "------------------------------------------------------------\n",
      "DecisionTree  testData score: 78.73134328358209\n",
      "------------------------------------------------------------\n",
      "RandomForest testData score: 81.34328358208955\n",
      "------------------------------------------------------------\n"
     ]
    }
   ],
   "source": [
    "print(\"--\"*30)\n",
    "for k,v in algos.items():\n",
    "    #print(v, \"trainData score:\", k.score(trainData[Features], trainData['Survived'])*100)\n",
    "    print(v, \"testData score:\", k.score(testData[Features], testData['Survived'])*100)\n",
    "    print(\"--\"*30)"
   ]
  },
  {
   "cell_type": "code",
   "execution_count": 65,
   "metadata": {},
   "outputs": [],
   "source": [
    "predictions_LR = lr_grid_search.predict(test_data[Features])\n",
    "predictions_SVM = svc_grid_search.predict(test_data[Features])\n",
    "predictions_RF = randomForest_grid_search.predict(test_data[Features])\n",
    "predictions_GNB = gau_grid_search.predict(test_data[Features])\n",
    "predictions_svm = svc_grid_search.predict(test_data[Features])"
   ]
  },
  {
   "cell_type": "code",
   "execution_count": 71,
   "metadata": {},
   "outputs": [
    {
     "name": "stdout",
     "output_type": "stream",
     "text": [
      "   PassengerID  Survived\n",
      "0          892         0\n",
      "1          893         0\n",
      "2          894         0\n",
      "3          895         0\n",
      "4          896         1\n"
     ]
    }
   ],
   "source": [
    "submission = pd.DataFrame({'PassengerID': test_data['PassengerId'],'Survived': predictions_LR })\n",
    "submission.to_csv('Titanic_Prediction.csv', index=False)\n",
    "print(submission.head())"
   ]
  },
  {
   "cell_type": "code",
   "execution_count": 73,
   "metadata": {},
   "outputs": [
    {
     "name": "stdout",
     "output_type": "stream",
     "text": [
      "       PassengerID    Survived\n",
      "count   418.000000  418.000000\n",
      "mean   1100.500000    0.370813\n",
      "std     120.810458    0.483601\n",
      "min     892.000000    0.000000\n",
      "25%     996.250000    0.000000\n",
      "50%    1100.500000    0.000000\n",
      "75%    1204.750000    1.000000\n",
      "max    1309.000000    1.000000\n"
     ]
    }
   ],
   "source": [
    "print(submission.describe())"
   ]
  },
  {
   "cell_type": "code",
   "execution_count": null,
   "metadata": {},
   "outputs": [],
   "source": []
  },
  {
   "cell_type": "code",
   "execution_count": null,
   "metadata": {},
   "outputs": [],
   "source": []
  }
 ],
 "metadata": {
  "kernelspec": {
   "display_name": "Python 3",
   "language": "python",
   "name": "python3"
  },
  "language_info": {
   "codemirror_mode": {
    "name": "ipython",
    "version": 3
   },
   "file_extension": ".py",
   "mimetype": "text/x-python",
   "name": "python",
   "nbconvert_exporter": "python",
   "pygments_lexer": "ipython3",
   "version": "3.7.3"
  }
 },
 "nbformat": 4,
 "nbformat_minor": 2
}
